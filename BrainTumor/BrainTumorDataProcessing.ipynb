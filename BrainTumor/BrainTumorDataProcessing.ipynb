{
  "cells": [
    {
      "cell_type": "markdown",
      "metadata": {
        "id": "view-in-github",
        "colab_type": "text"
      },
      "source": [
        "<a href=\"https://colab.research.google.com/github/IshwaryaSriram/EfficentNet-ImageClassification/blob/main/BrainTumor/BrainTumorDataProcessing.ipynb\" target=\"_parent\"><img src=\"https://colab.research.google.com/assets/colab-badge.svg\" alt=\"Open In Colab\"/></a>"
      ]
    },
    {
      "cell_type": "markdown",
      "metadata": {
        "id": "fZVLawdWYNG0"
      },
      "source": [
        "Loading the Dataset from Kaggle and preprocessing\n"
      ]
    },
    {
      "cell_type": "code",
      "execution_count": null,
      "metadata": {
        "id": "sUytwnR1b8jp"
      },
      "outputs": [],
      "source": [
        "from google.colab import files\n",
        "files.upload()"
      ]
    },
    {
      "cell_type": "code",
      "execution_count": null,
      "metadata": {
        "id": "qlCfAsNycJk3"
      },
      "outputs": [],
      "source": [
        "#setting up required directory to access kaggle dataset\n",
        "!mkdir -p ~/.kaggle\n",
        "!cp kaggle.json ~/.kaggle/\n",
        "\n",
        "# This permissions change avoids a warning on Kaggle tool startup.\n",
        "!chmod 600 ~/.kaggle/kaggle.json"
      ]
    },
    {
      "cell_type": "code",
      "execution_count": null,
      "metadata": {
        "colab": {
          "base_uri": "https://localhost:8080/"
        },
        "id": "KTmQcDoXcZHq",
        "outputId": "16024ecd-eb2a-4248-85b6-91ee4ccc5ddf"
      },
      "outputs": [
        {
          "output_type": "stream",
          "name": "stdout",
          "text": [
            "Looking in indexes: https://pypi.org/simple, https://us-python.pkg.dev/colab-wheels/public/simple/\n",
            "Collecting kaggle\n",
            "  Downloading kaggle-1.5.12.tar.gz (58 kB)\n",
            "\u001b[K     |████████████████████████████████| 58 kB 4.4 MB/s \n",
            "\u001b[?25hBuilding wheels for collected packages: kaggle\n",
            "  Building wheel for kaggle (setup.py) ... \u001b[?25l\u001b[?25hdone\n",
            "  Created wheel for kaggle: filename=kaggle-1.5.12-py3-none-any.whl size=73051 sha256=3e43a2dac772b86da98ef05a84da5177f45df1eaf64879c88d2dfed16b09ed2f\n",
            "  Stored in directory: /root/.cache/pip/wheels/62/d6/58/5853130f941e75b2177d281eb7e44b4a98ed46dd155f556dc5\n",
            "Successfully built kaggle\n",
            "Installing collected packages: kaggle\n",
            "  Attempting uninstall: kaggle\n",
            "    Found existing installation: kaggle 1.5.12\n",
            "    Uninstalling kaggle-1.5.12:\n",
            "      Successfully uninstalled kaggle-1.5.12\n",
            "Successfully installed kaggle-1.5.12\n"
          ]
        }
      ],
      "source": [
        "!pip install --upgrade --force-reinstall --no-deps kaggle"
      ]
    },
    {
      "cell_type": "code",
      "execution_count": null,
      "metadata": {
        "colab": {
          "base_uri": "https://localhost:8080/"
        },
        "id": "_L1dv84xcNvP",
        "outputId": "bf4608d1-60f1-4c0c-9df7-8bd1f5ef0ab2"
      },
      "outputs": [
        {
          "output_type": "stream",
          "name": "stdout",
          "text": [
            "Downloading brain-tumor-mri-image-classification.zip to /content\n",
            " 82% 75.0M/91.5M [00:00<00:00, 164MB/s]\n",
            "100% 91.5M/91.5M [00:00<00:00, 151MB/s]\n"
          ]
        }
      ],
      "source": [
        "!kaggle datasets download -d iashiqul/brain-tumor-mri-image-classification"
      ]
    },
    {
      "cell_type": "code",
      "execution_count": null,
      "metadata": {
        "id": "KSuPbxL2dZCh"
      },
      "outputs": [],
      "source": [
        "#extracting data from zip file\n",
        "import zipfile\n",
        "zip_ref = zipfile.ZipFile('brain-tumor-mri-image-classification.zip', 'r')\n",
        "zip_ref.extractall('files')\n",
        "zip_ref.close()"
      ]
    },
    {
      "cell_type": "code",
      "execution_count": null,
      "metadata": {
        "colab": {
          "base_uri": "https://localhost:8080/"
        },
        "id": "lXiRQl7ReJDo",
        "outputId": "775fb1f4-9166-4823-e0b5-f6df314ec5e8"
      },
      "outputs": [
        {
          "output_type": "stream",
          "name": "stdout",
          "text": [
            "/content/files\n"
          ]
        }
      ],
      "source": [
        "cd /content/files"
      ]
    },
    {
      "cell_type": "code",
      "execution_count": null,
      "metadata": {
        "id": "lWOs_vtqsh-P"
      },
      "outputs": [],
      "source": [
        "from google.colab.patches import cv2_imshow"
      ]
    },
    {
      "cell_type": "code",
      "execution_count": null,
      "metadata": {
        "id": "VEtPi9yUeLDw"
      },
      "outputs": [],
      "source": [
        "#importing necessary libraries\n",
        "import numpy as np # linear algebra\n",
        "import pandas as pd # data processing\n",
        "import cv2\n",
        "import matplotlib.pyplot as plt\n",
        "from sklearn.model_selection import train_test_split\n",
        "import tensorflow as tf\n",
        "%load_ext tensorboard\n",
        "import datetime, os\n",
        "from tensorflow.keras import layers\n",
        "import random\n",
        "from sklearn.model_selection import train_test_split\n",
        "from tensorflow.keras.layers.experimental import preprocessing\n",
        "from keras.preprocessing.image import ImageDataGenerator\n",
        "from sklearn.utils.multiclass import unique_labels\n",
        "import matplotlib.image as mpimg\n",
        "import seaborn as sns\n",
        "import itertools\n",
        "from sklearn.model_selection import train_test_split\n",
        "from sklearn.metrics import confusion_matrix\n",
        "from keras import Sequential\n",
        "from keras.preprocessing.image import ImageDataGenerator\n",
        "from tensorflow.keras.optimizers import SGD,Adam\n",
        "from keras.callbacks import ReduceLROnPlateau\n",
        "from keras.layers import Flatten,Dense,BatchNormalization,Activation,Dropout\n",
        "from tensorflow.keras.utils import to_categorical\n",
        "import PIL\n",
        "import PIL.Image"
      ]
    },
    {
      "cell_type": "markdown",
      "metadata": {
        "id": "cUbxuM9IaAhg"
      },
      "source": [
        "Data Analysis"
      ]
    },
    {
      "cell_type": "code",
      "execution_count": null,
      "metadata": {
        "colab": {
          "base_uri": "https://localhost:8080/"
        },
        "id": "wPbK7d1G7taG",
        "outputId": "abf3851c-4897-4a10-fffd-8d0f50c294fa"
      },
      "outputs": [
        {
          "output_type": "stream",
          "name": "stdout",
          "text": [
            "glioma_tumor  meningioma_tumor\tno_tumor  pituitary_tumor\n"
          ]
        }
      ],
      "source": [
        "!ls 'Brain Tumor MRI Classfication'/Training"
      ]
    },
    {
      "cell_type": "code",
      "execution_count": null,
      "metadata": {
        "id": "iosT2gksEDXK"
      },
      "outputs": [],
      "source": [
        "!cd /content/files/'Brain Tumor MRI Classfication'"
      ]
    },
    {
      "cell_type": "code",
      "execution_count": null,
      "metadata": {
        "id": "iIvRO0hmn-lz"
      },
      "outputs": [],
      "source": [
        "!mv /content/files/Brain\\ Tumor\\ MRI\\ Classfication /content/files/BrainTumorMRIClassfication"
      ]
    },
    {
      "cell_type": "code",
      "execution_count": null,
      "metadata": {
        "colab": {
          "base_uri": "https://localhost:8080/"
        },
        "id": "0Xxq2jbCEgjr",
        "outputId": "a4c217ed-bc80-4434-f51c-535a7f76fba1"
      },
      "outputs": [
        {
          "output_type": "stream",
          "name": "stdout",
          "text": [
            "/content/files\n"
          ]
        }
      ],
      "source": [
        "!pwd"
      ]
    },
    {
      "cell_type": "code",
      "execution_count": null,
      "metadata": {
        "id": "BJ26GSUfcgni"
      },
      "outputs": [],
      "source": [
        "!cd /content/files/BrainTumorMRIClassfication\n",
        "train_size = len(os.listdir('/content/files/BrainTumorMRIClassfication/Training/glioma_tumor')) + len(os.listdir('/content/files/BrainTumorMRIClassfication/Training/meningioma_tumor')) + len(os.listdir('/content/files/BrainTumorMRIClassfication/Training/no_tumor')) + len(os.listdir('/content/files/BrainTumorMRIClassfication/Training/pituitary_tumor')) \n"
      ]
    },
    {
      "cell_type": "code",
      "execution_count": null,
      "metadata": {
        "colab": {
          "base_uri": "https://localhost:8080/"
        },
        "id": "uEaoQN9MvuJi",
        "outputId": "3180c833-3bc5-4ff1-c4cf-cf1294d0cfc6"
      },
      "outputs": [
        {
          "output_type": "stream",
          "name": "stdout",
          "text": [
            "2870\n"
          ]
        }
      ],
      "source": [
        "print(train_size)"
      ]
    },
    {
      "cell_type": "code",
      "execution_count": null,
      "metadata": {
        "id": "qOP2HnQpFgrT"
      },
      "outputs": [],
      "source": [
        "!cd /content/files/BrainTumorMRIClassfication\n",
        "val_size = len(os.listdir('/content/files/BrainTumorMRIClassfication/Validation/glioma_tumor')) +  len(os.listdir('/content/files/BrainTumorMRIClassfication/Validation/meningioma_tumor')) + len(os.listdir('/content/files/BrainTumorMRIClassfication/Validation/no_tumor')) + len(os.listdir('/content/files/BrainTumorMRIClassfication/Validation/pituitary_tumor')) "
      ]
    },
    {
      "cell_type": "code",
      "execution_count": null,
      "metadata": {
        "id": "5-EpzR5RFqtw"
      },
      "outputs": [],
      "source": [
        "!cd /content/files/BrainTumorMRIClassfication\n",
        "test_size = len(os.listdir('/content/files/BrainTumorMRIClassfication/Testing/glioma_tumor')) + len(os.listdir('/content/files/BrainTumorMRIClassfication/Testing/meningioma_tumor')) + len(os.listdir('/content/files/BrainTumorMRIClassfication/Testing/no_tumor')) + len(os.listdir('/content/files/BrainTumorMRIClassfication/Testing/pituitary_tumor')) "
      ]
    },
    {
      "cell_type": "code",
      "execution_count": null,
      "metadata": {
        "colab": {
          "base_uri": "https://localhost:8080/"
        },
        "id": "jhtujce5wawQ",
        "outputId": "31248979-b20d-4096-aef9-de82cec2d446"
      },
      "outputs": [
        {
          "name": "stdout",
          "output_type": "stream",
          "text": [
            "2870 394 179\n"
          ]
        }
      ],
      "source": [
        "print(train_size, test_size, val_size)"
      ]
    },
    {
      "cell_type": "code",
      "execution_count": null,
      "metadata": {
        "colab": {
          "base_uri": "https://localhost:8080/"
        },
        "id": "RP567JAP1K3w",
        "outputId": "4caec80f-5581-4f07-fdef-9e8ecb9f5dbc"
      },
      "outputs": [
        {
          "name": "stdout",
          "output_type": "stream",
          "text": [
            "2870 394 179\n"
          ]
        }
      ],
      "source": [
        "print(len(train_images),len(test_images),len(validation_images))"
      ]
    },
    {
      "cell_type": "markdown",
      "metadata": {
        "id": "bErpuAbh0H1O"
      },
      "source": [
        "Train Images \n",
        "[[img, label]]"
      ]
    },
    {
      "cell_type": "code",
      "execution_count": null,
      "metadata": {
        "id": "7jvAj4u4zdHD"
      },
      "outputs": [],
      "source": [
        "train_images = []\n",
        "# np.empty((train_size, 22, 225), dtype=np.float32)\n",
        "train_labels =[]\n",
        "i = 0\n",
        "for data in os.listdir('/content/files/BrainTumorMRIClassfication/Training/glioma_tumor'):\n",
        "        img_d = cv2.imread('/content/files/BrainTumorMRIClassfication/Training/glioma_tumor/{}'.format(data))\n",
        "        img_d = cv2.resize(img_d, (224, 224))\n",
        "        img_d = cv2.cvtColor(img_d, cv2.COLOR_BGR2GRAY)\n",
        "        # img_d = cv2.cvtColor(img_d, cv2.COLOR_BGR2LAB)\n",
        "        if img_d is not None:    \n",
        "            train_images.append([img_d,1])      \n",
        "            # train_images[i] = img_d\n",
        "            # train_labels.append([1])\n",
        "        \n",
        "        i+=1\n",
        "\n",
        "i = 0\n",
        "for data in os.listdir('/content/files/BrainTumorMRIClassfication/Training/meningioma_tumor'):\n",
        "        img_d = cv2.imread('/content/files/BrainTumorMRIClassfication/Training/meningioma_tumor/{}'.format(data))\n",
        "        img_d = cv2.resize(img_d, (224, 224))\n",
        "        img_d = cv2.cvtColor(img_d, cv2.COLOR_BGR2GRAY)\n",
        "        # img_d = cv2.cvtColor(img_d, cv2.COLOR_BGR2LAB)\n",
        "        if img_d is not None:            \n",
        "            train_images.append([img_d,2]) \n",
        "            # train_images[i] = img_d\n",
        "            # train_labels.append([2])\n",
        "        \n",
        "        i+=1\n",
        "\n",
        "i = 0\n",
        "for data in os.listdir('/content/files/BrainTumorMRIClassfication/Training/no_tumor'):\n",
        "        img_d = cv2.imread('/content/files/BrainTumorMRIClassfication/Training/no_tumor/{}'.format(data))\n",
        "        img_d = cv2.resize(img_d, (224, 224))\n",
        "        img_d = cv2.cvtColor(img_d, cv2.COLOR_BGR2GRAY)\n",
        "        # img_d = cv2.cvtColor(img_d, cv2.COLOR_BGR2LAB)\n",
        "        if img_d is not None:            \n",
        "            train_images.append([img_d,0]) \n",
        "            # train_images[i] = img_d\n",
        "            # train_labels.append([0])\n",
        "        \n",
        "        i+=1\n",
        "\n",
        "i = 0\n",
        "for data in os.listdir('/content/files/BrainTumorMRIClassfication/Training/pituitary_tumor'):\n",
        "        img_d = cv2.imread('/content/files/BrainTumorMRIClassfication/Training/pituitary_tumor/{}'.format(data))\n",
        "        img_d = cv2.resize(img_d, (224, 224))\n",
        "        img_d = cv2.cvtColor(img_d, cv2.COLOR_BGR2GRAY)\n",
        "        # img_d = cv2.cvtColor(img_d, cv2.COLOR_BGR2LAB)\n",
        "        if img_d is not None:        \n",
        "            train_images.append([img_d,3])   \n",
        "            # train_images[i] = img_d\n",
        "            # train_labels.append([3])\n",
        "        \n",
        "        i+=1\n"
      ]
    },
    {
      "cell_type": "markdown",
      "metadata": {
        "id": "xOUXDXNF0qs2"
      },
      "source": [
        "Test Images [[img,labels]]"
      ]
    },
    {
      "cell_type": "code",
      "execution_count": null,
      "metadata": {
        "id": "AGnNOpwkh0J9"
      },
      "outputs": [],
      "source": [
        "test_images = []\n",
        "# np.empty((train_size, 225, 225), dtype=np.float32)\n",
        "# train_labels =[]\n",
        "i = 0\n",
        "for data in os.listdir('/content/files/BrainTumorMRIClassfication/Testing/glioma_tumor'):\n",
        "        img_d = cv2.imread('/content/files/BrainTumorMRIClassfication/Testing/glioma_tumor/{}'.format(data))\n",
        "        img_d = cv2.resize(img_d, (224, 224))\n",
        "        img_d = cv2.cvtColor(img_d, cv2.COLOR_BGR2GRAY)\n",
        "        # img_d = cv2.cvtColor(img_d, cv2.COLOR_BGR2LAB)\n",
        "        if img_d is not None:    \n",
        "            test_images.append([img_d,1])      \n",
        "            # train_images[i] = img_d\n",
        "            # train_labels.append([1])\n",
        "        \n",
        "        i+=1\n",
        "\n",
        "i = 0\n",
        "for data in os.listdir('/content/files/BrainTumorMRIClassfication/Testing/meningioma_tumor'):\n",
        "        img_d = cv2.imread('/content/files/BrainTumorMRIClassfication/Testing/meningioma_tumor/{}'.format(data))\n",
        "        img_d = cv2.resize(img_d, (224, 224))\n",
        "        img_d = cv2.cvtColor(img_d, cv2.COLOR_BGR2GRAY)\n",
        "        # img_d = cv2.cvtColor(img_d, cv2.COLOR_BGR2LAB)\n",
        "        if img_d is not None:            \n",
        "            test_images.append([img_d,2]) \n",
        "            # train_images[i] = img_d\n",
        "            # train_labels.append([2])\n",
        "        \n",
        "        i+=1\n",
        "\n",
        "i = 0\n",
        "for data in os.listdir('/content/files/BrainTumorMRIClassfication/Testing/no_tumor'):\n",
        "        img_d = cv2.imread('/content/files/BrainTumorMRIClassfication/Testing/no_tumor/{}'.format(data))\n",
        "        img_d = cv2.resize(img_d, (224, 224))\n",
        "        img_d = cv2.cvtColor(img_d, cv2.COLOR_BGR2GRAY)\n",
        "        # img_d = cv2.cvtColor(img_d, cv2.COLOR_BGR2LAB)\n",
        "        if img_d is not None:            \n",
        "            test_images.append([img_d,0]) \n",
        "            # train_images[i] = img_d\n",
        "            # train_labels.append([0])\n",
        "        \n",
        "        i+=1\n",
        "\n",
        "i = 0\n",
        "for data in os.listdir('/content/files/BrainTumorMRIClassfication/Testing/pituitary_tumor'):\n",
        "        img_d = cv2.imread('/content/files/BrainTumorMRIClassfication/Testing/pituitary_tumor/{}'.format(data))\n",
        "        img_d = cv2.resize(img_d, (224, 224))\n",
        "        img_d = cv2.cvtColor(img_d, cv2.COLOR_BGR2GRAY)\n",
        "        # img_d = cv2.cvtColor(img_d, cv2.COLOR_BGR2LAB)\n",
        "        if img_d is not None:        \n",
        "            test_images.append([img_d,3])   \n",
        "            # train_images[i] = img_d\n",
        "            # train_labels.append([3])\n",
        "        \n",
        "        i+=1\n"
      ]
    },
    {
      "cell_type": "markdown",
      "metadata": {
        "id": "R9sJdkiO0hzK"
      },
      "source": [
        "Validation Images [[img,label]]"
      ]
    },
    {
      "cell_type": "code",
      "execution_count": null,
      "metadata": {
        "id": "pIzYhAsv0lys"
      },
      "outputs": [],
      "source": [
        "validation_images = []\n",
        "# np.empty((train_size, 225, 225), dtype=np.float32)\n",
        "# train_labels =[]\n",
        "i = 0\n",
        "for data in os.listdir('/content/files/BrainTumorMRIClassfication/Validation/glioma_tumor'):\n",
        "        img_d = cv2.imread('/content/files/BrainTumorMRIClassfication/Validation/glioma_tumor/{}'.format(data))\n",
        "        img_d = cv2.resize(img_d, (224, 224))\n",
        "        img_d = cv2.cvtColor(img_d, cv2.COLOR_BGR2GRAY)\n",
        "        # img_d = cv2.cvtColor(img_d, cv2.COLOR_BGR2LAB)\n",
        "        if img_d is not None:    \n",
        "            validation_images.append([img_d,1])      \n",
        "            # train_images[i] = img_d\n",
        "            # train_labels.append([1])\n",
        "        \n",
        "        i+=1\n",
        "\n",
        "i = 0\n",
        "for data in os.listdir('/content/files/BrainTumorMRIClassfication/Validation/meningioma_tumor'):\n",
        "        img_d = cv2.imread('/content/files/BrainTumorMRIClassfication/Validation/meningioma_tumor/{}'.format(data))\n",
        "        img_d = cv2.resize(img_d, (224, 224))\n",
        "        img_d = cv2.cvtColor(img_d, cv2.COLOR_BGR2GRAY)\n",
        "        # img_d = cv2.cvtColor(img_d, cv2.COLOR_BGR2LAB)\n",
        "        if img_d is not None:            \n",
        "            validation_images.append([img_d,2]) \n",
        "            # train_images[i] = img_d\n",
        "            # train_labels.append([2])\n",
        "        \n",
        "        i+=1\n",
        "\n",
        "i = 0\n",
        "for data in os.listdir('/content/files/BrainTumorMRIClassfication/Validation/no_tumor'):\n",
        "        img_d = cv2.imread('/content/files/BrainTumorMRIClassfication/Validation/no_tumor/{}'.format(data))\n",
        "        img_d = cv2.resize(img_d, (224, 224))\n",
        "        img_d = cv2.cvtColor(img_d, cv2.COLOR_BGR2GRAY)\n",
        "        # img_d = cv2.cvtColor(img_d, cv2.COLOR_BGR2LAB)\n",
        "        if img_d is not None:            \n",
        "            validation_images.append([img_d,0]) \n",
        "            # train_images[i] = img_d\n",
        "            # train_labels.append([0])\n",
        "        \n",
        "        i+=1\n",
        "\n",
        "i = 0\n",
        "for data in os.listdir('/content/files/BrainTumorMRIClassfication/Validation/pituitary_tumor'):\n",
        "        img_d = cv2.imread('/content/files/BrainTumorMRIClassfication/Validation/pituitary_tumor/{}'.format(data))\n",
        "        img_d = cv2.resize(img_d, (224, 224))\n",
        "        img_d = cv2.cvtColor(img_d, cv2.COLOR_BGR2GRAY)\n",
        "        # img_d = cv2.cvtColor(img_d, cv2.COLOR_BGR2LAB)\n",
        "        if img_d is not None:        \n",
        "            validation_images.append([img_d,3])   \n",
        "            # train_images[i] = img_d\n",
        "            # train_labels.append([3])\n",
        "        \n",
        "        i+=1\n"
      ]
    },
    {
      "cell_type": "markdown",
      "source": [
        "Sample Images in the dataset"
      ],
      "metadata": {
        "id": "cCILNdhfHsJY"
      }
    },
    {
      "cell_type": "code",
      "execution_count": null,
      "metadata": {
        "colab": {
          "base_uri": "https://localhost:8080/",
          "height": 510
        },
        "id": "xFc4qsatqC1p",
        "outputId": "d8758b73-13d4-4131-ab23-d7a8e0ddc4b4"
      },
      "outputs": [
        {
          "output_type": "display_data",
          "data": {
            "text/plain": [
              "<PIL.Image.Image image mode=L size=224x224 at 0x7F98492D3810>"
            ],
            "image/png": "[encoded data removed]"
          },
          "metadata": {}
        },
        {
          "output_type": "execute_result",
          "data": {
            "text/plain": [
              "<matplotlib.image.AxesImage at 0x7f98491a9b90>"
            ]
          },
          "metadata": {},
          "execution_count": 20
        },
        {
          "output_type": "display_data",
          "data": {
            "text/plain": [
              "<Figure size 432x288 with 1 Axes>"
            ],
            "image/png": "[encoded data removed]"
          },
          "metadata": {
            "needs_background": "light"
          }
        }
      ],
      "source": [
        "cv2_imshow(test_images[0][0])\n",
        "plt.imshow(train_images[0][0],cmap='gray')\n",
        "# train_labels[0]"
      ]
    },
    {
      "cell_type": "code",
      "execution_count": null,
      "metadata": {
        "colab": {
          "base_uri": "https://localhost:8080/"
        },
        "id": "3JbX8v50vM6W",
        "outputId": "0e19540f-8590-4ed3-b8f2-c16a5fbf71ff"
      },
      "outputs": [
        {
          "data": {
            "text/plain": [
              "list"
            ]
          },
          "execution_count": 87,
          "metadata": {},
          "output_type": "execute_result"
        }
      ],
      "source": [
        "type(train_images)"
      ]
    },
    {
      "cell_type": "markdown",
      "metadata": {
        "id": "e0gXmBLE43J8"
      },
      "source": [
        "Saving images as numpy arrays to drive"
      ]
    },
    {
      "cell_type": "code",
      "execution_count": null,
      "metadata": {
        "id": "hPR2xnfQy_4H"
      },
      "outputs": [],
      "source": [
        "images = [train_images, test_images, validation_images]"
      ]
    },
    {
      "cell_type": "code",
      "execution_count": null,
      "metadata": {
        "colab": {
          "base_uri": "https://localhost:8080/"
        },
        "id": "e1zofKJc37lc",
        "outputId": "99f80ec7-684e-4990-a125-191f262198d7"
      },
      "outputs": [
        {
          "output_type": "stream",
          "name": "stdout",
          "text": [
            "Mounted at /drive\n"
          ]
        }
      ],
      "source": [
        "from google.colab import  drive\n",
        "drive.mount('/drive')"
      ]
    },
    {
      "cell_type": "code",
      "execution_count": null,
      "metadata": {
        "id": "k9IM-SR-1qzl"
      },
      "outputs": [],
      "source": [
        "for image in images:\n",
        "  random.shuffle(image)\n",
        "  X_img = []\n",
        "  Y_lab = []\n",
        "  for data in image:\n",
        "      X_img.append(data[0])\n",
        "      Y_lab.append(data[1])\n",
        "  if image == train_images:\n",
        "    X_train = np.array(X_img)\n",
        "    y_train = np.array(Y_lab)\n",
        "    np.save(\"/drive/MyDrive/DLBrainTumor/X_train\",X_train)\n",
        "    np.save(\"/drive/MyDrive/DLBrainTumor/y_train\",y_train)\n",
        "  elif image == test_images:\n",
        "    X_test = np.array(X_img)\n",
        "    y_test = np.array(Y_lab)\n",
        "    np.save(\"/drive/MyDrive/DLBrainTumor/X_test\",X_test)\n",
        "    np.save(\"/drive/MyDrive/DLBrainTumor/y_test\",y_test)\n",
        "  if image == validation_images:\n",
        "    X_val = np.array(X_img)\n",
        "    y_val = np.array(Y_lab)\n",
        "    np.save(\"/drive/MyDrive/DLBrainTumor/X_val\",X_val)\n",
        "    np.save(\"/drive/MyDrive/DLBrainTumor/y_val\",y_val)"
      ]
    }
  ],
  "metadata": {
    "accelerator": "GPU",
    "colab": {
      "collapsed_sections": [],
      "name": "BrainTumorDataProcessing.ipynb",
      "provenance": [],
      "include_colab_link": true
    },
    "kernelspec": {
      "display_name": "Python 3",
      "name": "python3"
    },
    "language_info": {
      "name": "python"
    }
  },
  "nbformat": 4,
  "nbformat_minor": 0
}