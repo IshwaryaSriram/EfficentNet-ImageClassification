{
  "nbformat": 4,
  "nbformat_minor": 0,
  "metadata": {
    "accelerator": "GPU",
    "colab": {
      "name": "BrainTumorModel.ipynb",
      "provenance": [],
      "collapsed_sections": [],
      "include_colab_link": true
    },
    "kernelspec": {
      "display_name": "Python 3",
      "name": "python3"
    },
    "language_info": {
      "name": "python"
    },
    "gpuClass": "standard"
  },
  "cells": [
    {
      "cell_type": "markdown",
      "metadata": {
        "id": "view-in-github",
        "colab_type": "text"
      },
      "source": [
        "<a href=\"https://colab.research.google.com/github/IshwaryaSriram/EfficentNet-ImageClassification/blob/main/BrainTumor/BrainTumorModel.ipynb\" target=\"_parent\"><img src=\"https://colab.research.google.com/assets/colab-badge.svg\" alt=\"Open In Colab\"/></a>"
      ]
    },
    {
      "cell_type": "markdown",
      "source": [
        "IMPORT LIBRARIES"
      ],
      "metadata": {
        "id": "fF_hBINLF39M"
      }
    },
    {
      "cell_type": "code",
      "metadata": {
        "id": "VEtPi9yUeLDw"
      },
      "source": [
        "#importing necessary libraries\n",
        "import numpy as np # linear algebra\n",
        "import pandas as pd # data processing\n",
        "import cv2\n",
        "import matplotlib.pyplot as plt\n",
        "from sklearn.model_selection import train_test_split\n",
        "import tensorflow as tf\n",
        "%load_ext tensorboard\n",
        "import datetime, os\n",
        "from tensorflow.keras import layers\n",
        "import random\n",
        "from sklearn.model_selection import train_test_split\n",
        "from tensorflow.keras.layers.experimental import preprocessing\n",
        "from keras.preprocessing.image import ImageDataGenerator\n",
        "from sklearn.utils.multiclass import unique_labels\n",
        "import matplotlib.image as mpimg\n",
        "import seaborn as sns\n",
        "import itertools\n",
        "from sklearn.model_selection import train_test_split\n",
        "from sklearn.metrics import confusion_matrix\n",
        "from keras import Sequential\n",
        "from keras.preprocessing.image import ImageDataGenerator\n",
        "from tensorflow.keras.optimizers import SGD,Adam\n",
        "from keras.callbacks import ReduceLROnPlateau\n",
        "from keras.layers import Flatten,Dense,BatchNormalization,Activation,Dropout\n",
        "from tensorflow.keras.utils import to_categorical"
      ],
      "execution_count": null,
      "outputs": []
    },
    {
      "cell_type": "markdown",
      "source": [
        "MOUNT DRIVE"
      ],
      "metadata": {
        "id": "R_rFT5mLGAHV"
      }
    },
    {
      "cell_type": "code",
      "source": [
        "from google.colab import  drive\n",
        "drive.mount('/drive')"
      ],
      "metadata": {
        "id": "zPY5is-S5tmc",
        "colab": {
          "base_uri": "https://localhost:8080/"
        },
        "outputId": "7d6e8569-7ef2-45e4-aa03-83b7632a160f"
      },
      "execution_count": null,
      "outputs": [
        {
          "output_type": "stream",
          "name": "stdout",
          "text": [
            "Mounted at /drive\n"
          ]
        }
      ]
    },
    {
      "cell_type": "markdown",
      "source": [
        "LOAD TRAINING & TESTING DATA"
      ],
      "metadata": {
        "id": "HSSrvvbRGElR"
      }
    },
    {
      "cell_type": "code",
      "source": [
        "X_train = np.load('/drive/MyDrive/DLBrainTumor/X_train.npy')\n",
        "X_test = np.load('/drive/MyDrive/DLBrainTumor/X_test.npy')\n",
        "X_val = np.load('/drive/MyDrive/DLBrainTumor/X_val.npy')\n",
        "\n",
        "\n",
        "\n",
        "Y_train = np.load('/drive/MyDrive/DLBrainTumor/y_train.npy')\n",
        "Y_test = np.load('/drive/MyDrive/DLBrainTumor/y_test.npy')\n",
        "Y_val = np.load('/drive/MyDrive/DLBrainTumor/y_val.npy')"
      ],
      "metadata": {
        "id": "MmsXp-UeY_DX"
      },
      "execution_count": null,
      "outputs": []
    },
    {
      "cell_type": "code",
      "source": [
        "X_train = np.stack((X_train,)*3, axis=-1)\n",
        "X_val = np.stack((X_val,)*3, axis=-1)"
      ],
      "metadata": {
        "id": "cETjBcYOdmaT"
      },
      "execution_count": null,
      "outputs": []
    },
    {
      "cell_type": "code",
      "source": [
        "X_test = np.stack((X_test,)*3, axis=-1)"
      ],
      "metadata": {
        "id": "Pb2X_SDQ84KK"
      },
      "execution_count": null,
      "outputs": []
    },
    {
      "cell_type": "code",
      "source": [
        "Y_train.shape"
      ],
      "metadata": {
        "colab": {
          "base_uri": "https://localhost:8080/"
        },
        "id": "k0GNVA6obVSp",
        "outputId": "632cd96c-26da-41b6-fbf4-0821f1ce8dd9"
      },
      "execution_count": null,
      "outputs": [
        {
          "output_type": "execute_result",
          "data": {
            "text/plain": [
              "(2870,)"
            ]
          },
          "metadata": {},
          "execution_count": 29
        }
      ]
    },
    {
      "cell_type": "code",
      "metadata": {
        "id": "kVat0Fsv4XQA"
      },
      "source": [
        "#importing EfficientNet Model\n",
        "from tensorflow.keras.applications import EfficientNetB0"
      ],
      "execution_count": null,
      "outputs": []
    },
    {
      "cell_type": "code",
      "source": [
        "X_train.shape"
      ],
      "metadata": {
        "colab": {
          "base_uri": "https://localhost:8080/"
        },
        "id": "QI6MKmhGfVF8",
        "outputId": "d75455a1-cfd6-4f9d-9f4d-8acc7c2a954f"
      },
      "execution_count": null,
      "outputs": [
        {
          "output_type": "execute_result",
          "data": {
            "text/plain": [
              "(2870, 224, 224, 3)"
            ]
          },
          "metadata": {},
          "execution_count": 7
        }
      ]
    },
    {
      "cell_type": "markdown",
      "source": [
        "MODEL"
      ],
      "metadata": {
        "id": "crPH6m23GN-l"
      }
    },
    {
      "cell_type": "code",
      "metadata": {
        "id": "UUUDjAJu4bpm",
        "colab": {
          "base_uri": "https://localhost:8080/"
        },
        "outputId": "39650cfa-051b-4674-f94d-ab3077e163d3"
      },
      "source": [
        "base_model_imgnet = EfficientNetB0(include_top=False, weights=\"imagenet\", input_shape=(224,224,3))\n",
        "# base_model_ns = EfficientNetB0(include_top=False, weights=\"efficientnetb0_notop.h5\", input_shape=(224,224,3))"
      ],
      "execution_count": null,
      "outputs": [
        {
          "output_type": "stream",
          "name": "stdout",
          "text": [
            "Downloading data from https://storage.googleapis.com/keras-applications/efficientnetb0_notop.h5\n",
            "16711680/16705208 [==============================] - 0s 0us/step\n",
            "16719872/16705208 [==============================] - 0s 0us/step\n"
          ]
        }
      ]
    },
    {
      "cell_type": "code",
      "metadata": {
        "id": "M1viIykAwJNQ"
      },
      "source": [
        "base_model_imgnet.trainable = False\n",
        "\n",
        "model_1 = tf.keras.Sequential([\n",
        "    base_model_imgnet,\n",
        "    tf.keras.layers.BatchNormalization(name='batch_norm1'),\n",
        "    # tf.keras.layers.Conv2D(20, 1, activation='relu', name='conv1'),\n",
        "    # tf.keras.layers.Flatten(name='flatten'),\n",
        "    tf.keras.layers.GlobalAveragePooling2D(name='avg_pool'),\n",
        "    tf.keras.layers.BatchNormalization(name='batch_norm2'),\n",
        "    tf.keras.layers.Dropout(0.2, name=\"dropout2\"),\n",
        "    # tf.keras.layers.Dense(1, activation='sigmoid',name = 'output') \n",
        "    tf.keras.layers.Dense(4, activation='softmax', name='output')\n",
        "], name=\"EfficientNetB0\")"
      ],
      "execution_count": null,
      "outputs": []
    },
    {
      "cell_type": "markdown",
      "source": [
        "MODEL SUMMARY"
      ],
      "metadata": {
        "id": "aEsLseO4GSZC"
      }
    },
    {
      "cell_type": "code",
      "metadata": {
        "colab": {
          "base_uri": "https://localhost:8080/"
        },
        "id": "HLrsxP3zwfJd",
        "outputId": "c57dc1f3-7a23-4625-8cac-454a7019c2e2"
      },
      "source": [
        "opt = tf.keras.optimizers.Adam(learning_rate=0.01)\n",
        "model_1.compile(optimizer = opt,loss='sparse_categorical_crossentropy',metrics=['accuracy'])\n",
        "model_1.summary()"
      ],
      "execution_count": null,
      "outputs": [
        {
          "output_type": "stream",
          "name": "stdout",
          "text": [
            "Model: \"EfficientNetB0\"\n",
            "_________________________________________________________________\n",
            " Layer (type)                Output Shape              Param #   \n",
            "=================================================================\n",
            " efficientnetb0 (Functional)  (None, 7, 7, 1280)       4049571   \n",
            "                                                                 \n",
            " batch_norm1 (BatchNormaliza  (None, 7, 7, 1280)       5120      \n",
            " tion)                                                           \n",
            "                                                                 \n",
            " avg_pool (GlobalAveragePool  (None, 1280)             0         \n",
            " ing2D)                                                          \n",
            "                                                                 \n",
            " batch_norm2 (BatchNormaliza  (None, 1280)             5120      \n",
            " tion)                                                           \n",
            "                                                                 \n",
            " dropout2 (Dropout)          (None, 1280)              0         \n",
            "                                                                 \n",
            " output (Dense)              (None, 4)                 5124      \n",
            "                                                                 \n",
            "=================================================================\n",
            "Total params: 4,064,935\n",
            "Trainable params: 10,244\n",
            "Non-trainable params: 4,054,691\n",
            "_________________________________________________________________\n"
          ]
        }
      ]
    },
    {
      "cell_type": "markdown",
      "source": [
        "COMPILING THE MODEL"
      ],
      "metadata": {
        "id": "TkUVJzljGnev"
      }
    },
    {
      "cell_type": "code",
      "metadata": {
        "colab": {
          "base_uri": "https://localhost:8080/"
        },
        "id": "M9nMaDrwwoIq",
        "outputId": "e7c95a52-61f1-4290-f2e4-077ba3816982"
      },
      "source": [
        "hist_1 = model_1.fit(X_train, Y_train, validation_data=(X_val, Y_val), epochs=15,shuffle=True,verbose=2,batch_size=50)\n"
      ],
      "execution_count": null,
      "outputs": [
        {
          "output_type": "stream",
          "name": "stdout",
          "text": [
            "Epoch 1/15\n",
            "58/58 - 25s - loss: 0.9198 - accuracy: 0.7575 - val_loss: 0.8072 - val_accuracy: 0.6257 - 25s/epoch - 440ms/step\n",
            "Epoch 2/15\n",
            "58/58 - 5s - loss: 0.5235 - accuracy: 0.8589 - val_loss: 0.4232 - val_accuracy: 0.8324 - 5s/epoch - 90ms/step\n",
            "Epoch 3/15\n",
            "58/58 - 5s - loss: 0.5574 - accuracy: 0.8502 - val_loss: 0.2944 - val_accuracy: 0.8659 - 5s/epoch - 90ms/step\n",
            "Epoch 4/15\n",
            "58/58 - 5s - loss: 0.6108 - accuracy: 0.8449 - val_loss: 0.3885 - val_accuracy: 0.8603 - 5s/epoch - 90ms/step\n",
            "Epoch 5/15\n",
            "58/58 - 5s - loss: 0.5032 - accuracy: 0.8617 - val_loss: 0.1781 - val_accuracy: 0.9441 - 5s/epoch - 90ms/step\n",
            "Epoch 6/15\n",
            "58/58 - 5s - loss: 0.5450 - accuracy: 0.8641 - val_loss: 0.3113 - val_accuracy: 0.8827 - 5s/epoch - 90ms/step\n",
            "Epoch 7/15\n",
            "58/58 - 5s - loss: 0.5291 - accuracy: 0.8749 - val_loss: 0.1942 - val_accuracy: 0.9162 - 5s/epoch - 90ms/step\n",
            "Epoch 8/15\n",
            "58/58 - 5s - loss: 0.4908 - accuracy: 0.8735 - val_loss: 0.1151 - val_accuracy: 0.9609 - 5s/epoch - 91ms/step\n",
            "Epoch 9/15\n",
            "58/58 - 5s - loss: 0.5166 - accuracy: 0.8725 - val_loss: 0.2586 - val_accuracy: 0.9162 - 5s/epoch - 91ms/step\n",
            "Epoch 10/15\n",
            "58/58 - 5s - loss: 0.5473 - accuracy: 0.8645 - val_loss: 0.2694 - val_accuracy: 0.9274 - 5s/epoch - 92ms/step\n",
            "Epoch 11/15\n",
            "58/58 - 6s - loss: 0.4491 - accuracy: 0.8864 - val_loss: 0.1715 - val_accuracy: 0.9441 - 6s/epoch - 97ms/step\n",
            "Epoch 12/15\n",
            "58/58 - 5s - loss: 0.4613 - accuracy: 0.8902 - val_loss: 0.1014 - val_accuracy: 0.9665 - 5s/epoch - 92ms/step\n",
            "Epoch 13/15\n",
            "58/58 - 5s - loss: 0.4800 - accuracy: 0.8721 - val_loss: 0.1420 - val_accuracy: 0.9609 - 5s/epoch - 92ms/step\n",
            "Epoch 14/15\n",
            "58/58 - 5s - loss: 0.3740 - accuracy: 0.8976 - val_loss: 0.1336 - val_accuracy: 0.9497 - 5s/epoch - 92ms/step\n",
            "Epoch 15/15\n",
            "58/58 - 5s - loss: 0.4495 - accuracy: 0.8843 - val_loss: 0.1998 - val_accuracy: 0.9330 - 5s/epoch - 92ms/step\n"
          ]
        }
      ]
    },
    {
      "cell_type": "code",
      "source": [
        "tf.config.run_functions_eagerly(True) # < ----------------\n"
      ],
      "metadata": {
        "id": "xul4gV7Vgvzi"
      },
      "execution_count": null,
      "outputs": []
    },
    {
      "cell_type": "markdown",
      "source": [
        "PLOTTING ACCURACY vs EPOCHS GRAPH"
      ],
      "metadata": {
        "id": "8b8pZxW0GrTi"
      }
    },
    {
      "cell_type": "code",
      "metadata": {
        "id": "pCIJgYYRH1uD"
      },
      "source": [
        "def plot_history(hist):\n",
        "    plt.plot(hist.history[\"accuracy\"])\n",
        "    plt.plot(hist.history[\"val_accuracy\"])\n",
        "    plt.title(\"model accuracy\")\n",
        "    plt.ylabel(\"accuracy\")\n",
        "    plt.xlabel(\"epoch\")\n",
        "    plt.legend([\"train\", \"validation\"], loc=\"upper left\")\n",
        "    plt.show()"
      ],
      "execution_count": null,
      "outputs": []
    },
    {
      "cell_type": "code",
      "metadata": {
        "colab": {
          "base_uri": "https://localhost:8080/",
          "height": 295
        },
        "id": "-_73LEKCKXRq",
        "outputId": "4dd011f7-3f55-45de-aff4-fe24b4056a9e"
      },
      "source": [
        "plot_history(hist_1)\n",
        "# plot_history(hist_2)"
      ],
      "execution_count": null,
      "outputs": [
        {
          "output_type": "display_data",
          "data": {
            "text/plain": [
              "<Figure size 432x288 with 1 Axes>"
            ],
            "image/png": "[encoded data removed]"
          },
          "metadata": {
            "needs_background": "light"
          }
        }
      ]
    },
    {
      "cell_type": "code",
      "metadata": {
        "id": "VM3RI0F-BqQr"
      },
      "source": [
        "model_1.save('/drive/MyDrive/DLBrainTumor/model.h5')"
      ],
      "execution_count": null,
      "outputs": []
    },
    {
      "cell_type": "markdown",
      "source": [
        "Testing the model"
      ],
      "metadata": {
        "id": "l6DFtGk9IA0y"
      }
    },
    {
      "cell_type": "code",
      "metadata": {
        "colab": {
          "base_uri": "https://localhost:8080/"
        },
        "id": "k2JHApSYzNwO",
        "outputId": "1a2b20a8-83c9-4e7d-9648-6716599ebc22"
      },
      "source": [
        "model_1.evaluate(X_test,Y_test)"
      ],
      "execution_count": null,
      "outputs": [
        {
          "output_type": "stream",
          "name": "stdout",
          "text": [
            "13/13 [==============================] - 2s 127ms/step - loss: 2.6074 - accuracy: 0.7081\n"
          ]
        },
        {
          "output_type": "execute_result",
          "data": {
            "text/plain": [
              "[2.607445478439331, 0.7081218361854553]"
            ]
          },
          "metadata": {},
          "execution_count": 15
        }
      ]
    }
  ]
}