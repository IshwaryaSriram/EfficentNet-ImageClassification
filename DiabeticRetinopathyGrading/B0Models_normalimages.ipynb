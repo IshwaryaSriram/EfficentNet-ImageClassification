{
  "nbformat": 4,
  "nbformat_minor": 0,
  "metadata": {
    "colab": {
      "name": "B0Models_normalimages.ipynb",
      "provenance": [],
      "collapsed_sections": [],
      "include_colab_link": true
    },
    "kernelspec": {
      "name": "python3",
      "display_name": "Python 3"
    },
    "language_info": {
      "name": "python"
    },
    "accelerator": "GPU"
  },
  "cells": [
    {
      "cell_type": "markdown",
      "metadata": {
        "id": "view-in-github",
        "colab_type": "text"
      },
      "source": [
        "<a href=\"https://colab.research.google.com/github/IshwaryaSriram/EfficentNet-ImageClassification/blob/main/DiabeticRetinopathyGrading/B0Models_normalimages.ipynb\" target=\"_parent\"><img src=\"https://colab.research.google.com/assets/colab-badge.svg\" alt=\"Open In Colab\"/></a>"
      ]
    },
    {
      "cell_type": "markdown",
      "metadata": {
        "id": "fZVLawdWYNG0"
      },
      "source": [
        "Loading the Dataset from Kaggle\n"
      ]
    },
    {
      "cell_type": "code",
      "metadata": {
        "colab": {
          "resources": {
            "http://localhost:8080/nbextensions/google.colab/files.js": {
              "data": "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",
              "ok": true,
              "headers": [
                [
                  "content-type",
                  "application/javascript"
                ]
              ],
              "status": 200,
              "status_text": ""
            }
          },
          "base_uri": "https://localhost:8080/",
          "height": 111
        },
        "id": "sUytwnR1b8jp",
        "outputId": "13cbbfe5-e98a-4c42-b522-e7edc605a138"
      },
      "source": [
        "from google.colab import files\n",
        "files.upload()"
      ],
      "execution_count": null,
      "outputs": [
        {
          "output_type": "display_data",
          "data": {
            "text/html": [
              "\n",
              "     <input type=\"file\" id=\"files-25722b70-bd58-4801-87fc-bb06df8590a4\" name=\"files[]\" multiple disabled\n",
              "        style=\"border:none\" />\n",
              "     <output id=\"result-25722b70-bd58-4801-87fc-bb06df8590a4\">\n",
              "      Upload widget is only available when the cell has been executed in the\n",
              "      current browser session. Please rerun this cell to enable.\n",
              "      </output>\n",
              "      <script src=\"/nbextensions/google.colab/files.js\"></script> "
            ],
            "text/plain": [
              "<IPython.core.display.HTML object>"
            ]
          },
          "metadata": {
            "tags": []
          }
        },
        {
          "output_type": "stream",
          "text": [
            "Saving kaggle.json to kaggle.json\n"
          ],
          "name": "stdout"
        },
        {
          "output_type": "execute_result",
          "data": {
            "text/plain": [
              "{'kaggle.json': b'{\"username\":\"ishwaryasriram\",\"key\":\"0c236b1d97bafa0285eca11f866a5a5a\"}'}"
            ]
          },
          "metadata": {
            "tags": []
          },
          "execution_count": 1
        }
      ]
    },
    {
      "cell_type": "code",
      "metadata": {
        "id": "qlCfAsNycJk3"
      },
      "source": [
        "#setting up required directory to access kaggle dataset\n",
        "!mkdir -p ~/.kaggle\n",
        "!cp kaggle.json ~/.kaggle/\n",
        "\n",
        "# This permissions change avoids a warning on Kaggle tool startup.\n",
        "!chmod 600 ~/.kaggle/kaggle.json"
      ],
      "execution_count": null,
      "outputs": []
    },
    {
      "cell_type": "code",
      "metadata": {
        "colab": {
          "base_uri": "https://localhost:8080/"
        },
        "id": "KTmQcDoXcZHq",
        "outputId": "6a6bd2f1-2d57-49f1-e1b2-ed6cf887323c"
      },
      "source": [
        "!pip install --upgrade --force-reinstall --no-deps kaggle"
      ],
      "execution_count": null,
      "outputs": [
        {
          "output_type": "stream",
          "text": [
            "Collecting kaggle\n",
            "\u001b[?25l  Downloading https://files.pythonhosted.org/packages/3a/e7/3bac01547d2ed3d308ac92a0878fbdb0ed0f3d41fb1906c319ccbba1bfbc/kaggle-1.5.12.tar.gz (58kB)\n",
            "\r\u001b[K     |█████▋                          | 10kB 20.3MB/s eta 0:00:01\r\u001b[K     |███████████▏                    | 20kB 27.5MB/s eta 0:00:01\r\u001b[K     |████████████████▊               | 30kB 30.1MB/s eta 0:00:01\r\u001b[K     |██████████████████████▎         | 40kB 32.8MB/s eta 0:00:01\r\u001b[K     |███████████████████████████▉    | 51kB 35.0MB/s eta 0:00:01\r\u001b[K     |████████████████████████████████| 61kB 8.9MB/s \n",
            "\u001b[?25hBuilding wheels for collected packages: kaggle\n",
            "  Building wheel for kaggle (setup.py) ... \u001b[?25l\u001b[?25hdone\n",
            "  Created wheel for kaggle: filename=kaggle-1.5.12-cp37-none-any.whl size=73053 sha256=af02e842b3a604012d6d6ec808a9a9ec964ab5ff7d1a2e5bd3973bf080bd15dd\n",
            "  Stored in directory: /root/.cache/pip/wheels/a1/6a/26/d30b7499ff85a4a4593377a87ecf55f7d08af42f0de9b60303\n",
            "Successfully built kaggle\n",
            "Installing collected packages: kaggle\n",
            "  Found existing installation: kaggle 1.5.12\n",
            "    Uninstalling kaggle-1.5.12:\n",
            "      Successfully uninstalled kaggle-1.5.12\n",
            "Successfully installed kaggle-1.5.12\n"
          ],
          "name": "stdout"
        }
      ]
    },
    {
      "cell_type": "code",
      "metadata": {
        "colab": {
          "base_uri": "https://localhost:8080/"
        },
        "id": "_L1dv84xcNvP",
        "outputId": "0d426ff6-3801-421e-d92e-ccd86811fd20"
      },
      "source": [
        "#downloading the datasaet (zipped file)\n",
        "!kaggle datasets download -d sovitrath/diabetic-retinopathy-2015-data-colored-resized"
      ],
      "execution_count": null,
      "outputs": [
        {
          "output_type": "stream",
          "text": [
            "Downloading diabetic-retinopathy-2015-data-colored-resized.zip to /content\n",
            "100% 1.94G/1.94G [00:19<00:00, 33.5MB/s]\n",
            "100% 1.94G/1.94G [00:19<00:00, 107MB/s] \n"
          ],
          "name": "stdout"
        }
      ]
    },
    {
      "cell_type": "code",
      "metadata": {
        "id": "KSuPbxL2dZCh"
      },
      "source": [
        "#extracting data from zip file\n",
        "import zipfile\n",
        "zip_ref = zipfile.ZipFile('diabetic-retinopathy-2015-data-colored-resized.zip', 'r')\n",
        "zip_ref.extractall('files')\n",
        "zip_ref.close()"
      ],
      "execution_count": null,
      "outputs": []
    },
    {
      "cell_type": "code",
      "metadata": {
        "colab": {
          "base_uri": "https://localhost:8080/"
        },
        "id": "lXiRQl7ReJDo",
        "outputId": "10e6684e-3f8a-4acf-b5dd-8aebbc0e171e"
      },
      "source": [
        "cd files"
      ],
      "execution_count": null,
      "outputs": [
        {
          "output_type": "stream",
          "text": [
            "/content/files\n"
          ],
          "name": "stdout"
        }
      ]
    },
    {
      "cell_type": "code",
      "metadata": {
        "id": "VEtPi9yUeLDw"
      },
      "source": [
        "#importing necessary libraries\n",
        "import numpy as np # linear algebra\n",
        "import pandas as pd # data processing\n",
        "import cv2\n",
        "import matplotlib.pyplot as plt\n",
        "from sklearn.model_selection import train_test_split\n",
        "import tensorflow as tf\n",
        "%load_ext tensorboard\n",
        "import datetime, os\n",
        "from tensorflow.keras import layers\n",
        "import random\n",
        "from sklearn.model_selection import train_test_split\n",
        "from tensorflow.keras.layers.experimental import preprocessing\n",
        "from keras.preprocessing.image import ImageDataGenerator\n",
        "from sklearn.utils.multiclass import unique_labels\n",
        "import matplotlib.image as mpimg\n",
        "import seaborn as sns\n",
        "import itertools\n",
        "from sklearn.model_selection import train_test_split\n",
        "from sklearn.metrics import confusion_matrix\n",
        "from keras import Sequential\n",
        "from keras.preprocessing.image import ImageDataGenerator\n",
        "from keras.optimizers import SGD,Adam\n",
        "from keras.callbacks import ReduceLROnPlateau\n",
        "from keras.layers import Flatten,Dense,BatchNormalization,Activation,Dropout\n",
        "from tensorflow.keras.utils import to_categorical"
      ],
      "execution_count": null,
      "outputs": []
    },
    {
      "cell_type": "markdown",
      "metadata": {
        "id": "cUbxuM9IaAhg"
      },
      "source": [
        "Exploratory Data Analysis"
      ]
    },
    {
      "cell_type": "code",
      "metadata": {
        "id": "nEwtrahMeOEm",
        "colab": {
          "base_uri": "https://localhost:8080/"
        },
        "outputId": "83651343-8148-405b-c7f7-053f53f33542"
      },
      "source": [
        "#displaying the first few rows from the dataset \n",
        "dataset_csv = pd.read_csv('trainLabels.csv')\n",
        "print(dataset_csv.dtypes)\n",
        "print(dataset_csv.describe())"
      ],
      "execution_count": null,
      "outputs": [
        {
          "output_type": "stream",
          "text": [
            "image    object\n",
            "level     int64\n",
            "dtype: object\n",
            "              level\n",
            "count  35126.000000\n",
            "mean       0.526049\n",
            "std        0.970390\n",
            "min        0.000000\n",
            "25%        0.000000\n",
            "50%        0.000000\n",
            "75%        1.000000\n",
            "max        4.000000\n"
          ],
          "name": "stdout"
        }
      ]
    },
    {
      "cell_type": "code",
      "metadata": {
        "colab": {
          "base_uri": "https://localhost:8080/"
        },
        "id": "BJ26GSUfcgni",
        "outputId": "7198937c-bd1c-4a8f-c083-09c91682ca38"
      },
      "source": [
        "# cd '../content/files'\n",
        "print(\n",
        "    len(os.listdir('colored_images/colored_images/Mild')) +\n",
        "    len(os.listdir('colored_images/colored_images/Moderate')) +\n",
        "    len(os.listdir('colored_images/colored_images/No_DR')) +\n",
        "    len(os.listdir('colored_images/colored_images/Proliferate_DR')) +\n",
        "    len(os.listdir('colored_images/colored_images/Severe'))\n",
        ")"
      ],
      "execution_count": null,
      "outputs": [
        {
          "output_type": "stream",
          "text": [
            "35126\n"
          ],
          "name": "stdout"
        }
      ]
    },
    {
      "cell_type": "code",
      "metadata": {
        "colab": {
          "base_uri": "https://localhost:8080/",
          "height": 350
        },
        "id": "BRj5k-IdaKnT",
        "outputId": "1008c438-1664-49ea-e0b8-cddbe6f94090"
      },
      "source": [
        "#bar graph representing the dataset distribution\n",
        "plt.figure(figsize=(7,5))\n",
        "plt.title(\"Diabetic Retinopathy Grading\")\n",
        "data_plot = sns.barplot(x=dataset_csv.level.unique(), y=dataset_csv['level'].value_counts())\n",
        "plt.ylabel(\"Count of values\")\n",
        "plt.xlabel(\"Retinopathy Grade\")\n",
        "\n",
        "for p in data_plot.patches:\n",
        "    data_plot.annotate(format(p.get_height(), '.1f'), \n",
        "                   (p.get_x() + p.get_width() / 2., p.get_height()), \n",
        "                   ha = 'center', va = 'center', \n",
        "                   xytext = (0, 4.5), \n",
        "                   textcoords = 'offset points')\n"
      ],
      "execution_count": null,
      "outputs": [
        {
          "output_type": "display_data",
          "data": {
            "image/png": "[encoded data removed]",
            "text/plain": [
              "<Figure size 504x360 with 1 Axes>"
            ]
          },
          "metadata": {
            "tags": [],
            "needs_background": "light"
          }
        }
      ]
    },
    {
      "cell_type": "code",
      "metadata": {
        "colab": {
          "base_uri": "https://localhost:8080/",
          "height": 287
        },
        "id": "AO1mYohdgi04",
        "outputId": "4fc4925d-86bc-44a7-8e7a-8c4298f91b2a"
      },
      "source": [
        "#Plotting a sample image \n",
        "\n",
        "# import cv2 as cv\n",
        "# from matplotlib import pyplot as plt\n",
        "\n",
        "# from resizeimage import resizeimage\n",
        "\n",
        "img = cv2.imread('colored_images/colored_images/Mild/10030_left.png')\n",
        "img = cv2.cvtColor(img, cv2.COLOR_BGR2RGB)\n",
        "plt.imshow(img)\n"
      ],
      "execution_count": null,
      "outputs": [
        {
          "output_type": "execute_result",
          "data": {
            "text/plain": [
              "<matplotlib.image.AxesImage at 0x7f4c54ae74d0>"
            ]
          },
          "metadata": {
            "tags": []
          },
          "execution_count": 8
        },
        {
          "output_type": "display_data",
          "data": {
            "image/png": "[encoded data removed]",
            "text/plain": [
              "<Figure size 432x288 with 1 Axes>"
            ]
          },
          "metadata": {
            "tags": [],
            "needs_background": "light"
          }
        }
      ]
    },
    {
      "cell_type": "code",
      "metadata": {
        "id": "6NL8X1Kqt0yr"
      },
      "source": [
        "image_normal = []\n",
        "\n",
        "i = 0\n",
        "for data in os.listdir('colored_images/colored_images/No_DR'):\n",
        "        img_d = cv2.imread('colored_images/colored_images/No_DR/{}'.format(data))\n",
        "        img_d = cv2.cvtColor(img_d, cv2.COLOR_BGR2RGB )\n",
        "        if img_d is not None:\n",
        "            image_normal.append([img_d,0])\n",
        "        i+=1\n",
        "        if i>=10000:\n",
        "          break\n",
        "\n",
        "i = 0\n",
        "for data in os.listdir('colored_images/colored_images/Mild'):\n",
        "        img_d = cv2.imread('colored_images/colored_images/Mild/{}'.format(data))\n",
        "        img_d = cv2.cvtColor(img_d, cv2.COLOR_BGR2RGB)\n",
        "        if img_d is not None:\n",
        "            image_normal.append([img_d)\n",
        "            laberl.append(1),1])\n",
        "        i+=1\n",
        "    \n",
        "i = 0\n",
        "for data in os.listdir('colored_images/colored_images/Moderate'):\n",
        "        img_d = cv2.imread('colored_images/colored_images/Moderate/{}'.format(data))\n",
        "        img_d = cv2.cvtColor(img_d, cv2.COLOR_BGR2RGB)\n",
        "        if img_d is not None:\n",
        "            image_normal.append([img_d,1])\n",
        "        i+=1\n",
        "\n",
        "i = 0\n",
        "for data in os.listdir('colored_images/colored_images/Proliferate_DR'):\n",
        "        img_d = cv2.imread('colored_images/colored_images/Proliferate_DR/{}'.format(data))\n",
        "        img_d = cv2.cvtColor(img_d, cv2.COLOR_BGR2RGB)\n",
        "        if img_d is not None:\n",
        "            image_normal.append([img_d,1])\n",
        "        i+=1\n",
        "\n",
        "i = 0\n",
        "for data in os.listdir('colored_images/colored_images/Severe'):\n",
        "        img_d = cv2.imread('colored_images/colored_images/Severe/{}'.format(data))\n",
        "        img_d = cv2.cvtColor(img_d, cv2.COLOR_BGR2RGB)\n",
        "        if img_d is not None:\n",
        "            image_normal.append([img_d,1])\n",
        "        i+=1\n",
        "        "
      ],
      "execution_count": null,
      "outputs": []
    },
    {
      "cell_type": "code",
      "metadata": {
        "id": "17BFu8kNrnby"
      },
      "source": [
        "random.shuffle(image_normal)\n",
        "X_img = []\n",
        "Y_lab = []\n",
        "for data in image_normal:\n",
        "    X_img.append(data[0])\n",
        "    Y_lab.append(data[1])\n",
        "\n",
        "X_arr_img = np.array(X_img)\n",
        "\n",
        "X_train, X_test, Y_train, Y_test = train_test_split(X_arr_img, Y_lab, test_size=0.3)\n",
        "\n",
        "X_train = np.array(X_train)\n",
        "X_test = np.array(X_test)\n",
        "Y_train = np.array(Y_train)\n",
        "Y_test = np.array(Y_test)"
      ],
      "execution_count": null,
      "outputs": []
    },
    {
      "cell_type": "code",
      "metadata": {
        "id": "JTEsVwi36f2L"
      },
      "source": [
        "image_normal = []\n",
        "X_img = []\n",
        "Y_lab = []"
      ],
      "execution_count": null,
      "outputs": []
    },
    {
      "cell_type": "code",
      "metadata": {
        "colab": {
          "base_uri": "https://localhost:8080/"
        },
        "id": "zJpqm7gGvSr6",
        "outputId": "645831e8-f97c-4424-afb3-c878a50ccf31"
      },
      "source": [
        "print(X_train.shape, X_test.shape)\n",
        "print(Y_train.shape, Y_test.shape)"
      ],
      "execution_count": null,
      "outputs": [
        {
          "output_type": "stream",
          "text": [
            "(13521, 224, 224, 3) (5795, 224, 224, 3)\n",
            "(13521,) (5795,)\n"
          ],
          "name": "stdout"
        }
      ]
    },
    {
      "cell_type": "markdown",
      "metadata": {
        "id": "qEhnEZIcvBOq"
      },
      "source": [
        "Model is implemented with two different sets of weights:\n",
        "  1. ImageNet\n",
        "  2. Noisy Student "
      ]
    },
    {
      "cell_type": "code",
      "metadata": {
        "id": "_1k2rHPmbqEk",
        "colab": {
          "base_uri": "https://localhost:8080/"
        },
        "outputId": "0d65f77f-7339-4f6f-e631-de73f2982b30"
      },
      "source": [
        "#loading Nosiy student \n",
        "!wget https://storage.googleapis.com/cloud-tpu-checkpoints/efficientnet/noisystudent/noisy_student_efficientnet-b0.tar.gz\n",
        "!tar -xf noisy_student_efficientnet-b0.tar.gz\n",
        "\n",
        "!wget https://raw.githubusercontent.com/tensorflow/tensorflow/master/tensorflow/python/keras/applications/efficientnet_weight_update_util.py\n",
        "!python efficientnet_weight_update_util.py --model b0 --notop --ckpt noisy_student_efficientnet-b0/model.ckpt --o efficientnetb0_notop.h5"
      ],
      "execution_count": null,
      "outputs": [
        {
          "output_type": "stream",
          "text": [
            "--2021-06-29 17:41:30--  https://storage.googleapis.com/cloud-tpu-checkpoints/efficientnet/noisystudent/noisy_student_efficientnet-b0.tar.gz\n",
            "Resolving storage.googleapis.com (storage.googleapis.com)... 172.217.15.80, 172.217.13.240, 172.217.9.208, ...\n",
            "Connecting to storage.googleapis.com (storage.googleapis.com)|172.217.15.80|:443... connected.\n",
            "HTTP request sent, awaiting response... 200 OK\n",
            "Length: 156406658 (149M) [application/x-tar]\n",
            "Saving to: ‘noisy_student_efficientnet-b0.tar.gz’\n",
            "\n",
            "noisy_student_effic 100%[===================>] 149.16M   249MB/s    in 0.6s    \n",
            "\n",
            "2021-06-29 17:41:31 (249 MB/s) - ‘noisy_student_efficientnet-b0.tar.gz’ saved [156406658/156406658]\n",
            "\n",
            "--2021-06-29 17:41:34--  https://raw.githubusercontent.com/tensorflow/tensorflow/master/tensorflow/python/keras/applications/efficientnet_weight_update_util.py\n",
            "Resolving raw.githubusercontent.com (raw.githubusercontent.com)... 185.199.109.133, 185.199.110.133, 185.199.111.133, ...\n",
            "Connecting to raw.githubusercontent.com (raw.githubusercontent.com)|185.199.109.133|:443... connected.\n",
            "HTTP request sent, awaiting response... 200 OK\n",
            "Length: 13212 (13K) [text/plain]\n",
            "Saving to: ‘efficientnet_weight_update_util.py’\n",
            "\n",
            "efficientnet_weight 100%[===================>]  12.90K  --.-KB/s    in 0s      \n",
            "\n",
            "2021-06-29 17:41:34 (87.4 MB/s) - ‘efficientnet_weight_update_util.py’ saved [13212/13212]\n",
            "\n",
            "2021-06-29 17:41:37.011275: I tensorflow/stream_executor/platform/default/dso_loader.cc:53] Successfully opened dynamic library libcudart.so.11.0\n",
            "2021-06-29 17:41:38.736144: I tensorflow/stream_executor/platform/default/dso_loader.cc:53] Successfully opened dynamic library libcuda.so.1\n",
            "2021-06-29 17:41:38.814187: I tensorflow/stream_executor/cuda/cuda_gpu_executor.cc:937] successful NUMA node read from SysFS had negative value (-1), but there must be at least one NUMA node, so returning NUMA node zero\n",
            "2021-06-29 17:41:38.814846: I tensorflow/core/common_runtime/gpu/gpu_device.cc:1733] Found device 0 with properties: \n",
            "pciBusID: 0000:00:04.0 name: Tesla T4 computeCapability: 7.5\n",
            "coreClock: 1.59GHz coreCount: 40 deviceMemorySize: 14.75GiB deviceMemoryBandwidth: 298.08GiB/s\n",
            "2021-06-29 17:41:38.814895: I tensorflow/stream_executor/platform/default/dso_loader.cc:53] Successfully opened dynamic library libcudart.so.11.0\n",
            "2021-06-29 17:41:38.938189: I tensorflow/stream_executor/platform/default/dso_loader.cc:53] Successfully opened dynamic library libcublas.so.11\n",
            "2021-06-29 17:41:38.938283: I tensorflow/stream_executor/platform/default/dso_loader.cc:53] Successfully opened dynamic library libcublasLt.so.11\n",
            "2021-06-29 17:41:39.064791: I tensorflow/stream_executor/platform/default/dso_loader.cc:53] Successfully opened dynamic library libcufft.so.10\n",
            "2021-06-29 17:41:39.122252: I tensorflow/stream_executor/platform/default/dso_loader.cc:53] Successfully opened dynamic library libcurand.so.10\n",
            "2021-06-29 17:41:39.361909: I tensorflow/stream_executor/platform/default/dso_loader.cc:53] Successfully opened dynamic library libcusolver.so.10\n",
            "2021-06-29 17:41:39.421328: I tensorflow/stream_executor/platform/default/dso_loader.cc:53] Successfully opened dynamic library libcusparse.so.11\n",
            "2021-06-29 17:41:39.426554: I tensorflow/stream_executor/platform/default/dso_loader.cc:53] Successfully opened dynamic library libcudnn.so.8\n",
            "2021-06-29 17:41:39.426703: I tensorflow/stream_executor/cuda/cuda_gpu_executor.cc:937] successful NUMA node read from SysFS had negative value (-1), but there must be at least one NUMA node, so returning NUMA node zero\n",
            "2021-06-29 17:41:39.428007: I tensorflow/stream_executor/cuda/cuda_gpu_executor.cc:937] successful NUMA node read from SysFS had negative value (-1), but there must be at least one NUMA node, so returning NUMA node zero\n",
            "2021-06-29 17:41:39.431773: I tensorflow/core/common_runtime/gpu/gpu_device.cc:1871] Adding visible gpu devices: 0\n",
            "2021-06-29 17:41:39.432318: I tensorflow/stream_executor/cuda/cuda_gpu_executor.cc:937] successful NUMA node read from SysFS had negative value (-1), but there must be at least one NUMA node, so returning NUMA node zero\n",
            "2021-06-29 17:41:39.432896: I tensorflow/core/common_runtime/gpu/gpu_device.cc:1733] Found device 0 with properties: \n",
            "pciBusID: 0000:00:04.0 name: Tesla T4 computeCapability: 7.5\n",
            "coreClock: 1.59GHz coreCount: 40 deviceMemorySize: 14.75GiB deviceMemoryBandwidth: 298.08GiB/s\n",
            "2021-06-29 17:41:39.432977: I tensorflow/stream_executor/cuda/cuda_gpu_executor.cc:937] successful NUMA node read from SysFS had negative value (-1), but there must be at least one NUMA node, so returning NUMA node zero\n",
            "2021-06-29 17:41:39.433594: I tensorflow/stream_executor/cuda/cuda_gpu_executor.cc:937] successful NUMA node read from SysFS had negative value (-1), but there must be at least one NUMA node, so returning NUMA node zero\n",
            "2021-06-29 17:41:39.434196: I tensorflow/core/common_runtime/gpu/gpu_device.cc:1871] Adding visible gpu devices: 0\n",
            "2021-06-29 17:41:39.437128: I tensorflow/stream_executor/platform/default/dso_loader.cc:53] Successfully opened dynamic library libcudart.so.11.0\n",
            "2021-06-29 17:41:43.766028: I tensorflow/core/common_runtime/gpu/gpu_device.cc:1258] Device interconnect StreamExecutor with strength 1 edge matrix:\n",
            "2021-06-29 17:41:43.766078: I tensorflow/core/common_runtime/gpu/gpu_device.cc:1264]      0 \n",
            "2021-06-29 17:41:43.766093: I tensorflow/core/common_runtime/gpu/gpu_device.cc:1277] 0:   N \n",
            "2021-06-29 17:41:43.766261: I tensorflow/stream_executor/cuda/cuda_gpu_executor.cc:937] successful NUMA node read from SysFS had negative value (-1), but there must be at least one NUMA node, so returning NUMA node zero\n",
            "2021-06-29 17:41:43.766918: I tensorflow/stream_executor/cuda/cuda_gpu_executor.cc:937] successful NUMA node read from SysFS had negative value (-1), but there must be at least one NUMA node, so returning NUMA node zero\n",
            "2021-06-29 17:41:43.767555: I tensorflow/stream_executor/cuda/cuda_gpu_executor.cc:937] successful NUMA node read from SysFS had negative value (-1), but there must be at least one NUMA node, so returning NUMA node zero\n",
            "2021-06-29 17:41:43.768075: W tensorflow/core/common_runtime/gpu/gpu_bfc_allocator.cc:39] Overriding allow_growth setting because the TF_FORCE_GPU_ALLOW_GROWTH environment variable is set. Original config value was 0.\n",
            "2021-06-29 17:41:43.769879: I tensorflow/core/common_runtime/gpu/gpu_device.cc:1418] Created TensorFlow device (/job:localhost/replica:0/task:0/device:GPU:0 with 13837 MB memory) -> physical GPU (device: 0, name: Tesla T4, pci bus id: 0000:00:04.0, compute capability: 7.5)\n",
            "Downloading data from https://storage.googleapis.com/keras-applications/efficientnetb0_notop.h5\n",
            "16711680/16705208 [==============================] - 0s 0us/step\n",
            "check variables match in each block\n",
            "blocks_0 and block1a match.\n",
            "blocks_1 and block2a match.\n",
            "blocks_2 and block2b match.\n",
            "blocks_3 and block3a match.\n",
            "blocks_4 and block3b match.\n",
            "blocks_5 and block4a match.\n",
            "blocks_6 and block4b match.\n",
            "blocks_7 and block4c match.\n",
            "blocks_8 and block5a match.\n",
            "blocks_9 and block5b match.\n",
            "blocks_10 and block5c match.\n",
            "blocks_11 and block6a match.\n",
            "blocks_12 and block6b match.\n",
            "blocks_13 and block6c match.\n",
            "blocks_14 and block6d match.\n",
            "blocks_15 and block7a match.\n",
            "skipping variable normalization/mean:0: normalization is a layerin keras implementation, but preprocessing in TF implementation.\n",
            "skipping variable normalization/variance:0: normalization is a layerin keras implementation, but preprocessing in TF implementation.\n",
            "skipping variable normalization/count:0: normalization is a layerin keras implementation, but preprocessing in TF implementation.\n",
            "309/312 weights updated\n"
          ],
          "name": "stdout"
        }
      ]
    },
    {
      "cell_type": "code",
      "metadata": {
        "id": "kVat0Fsv4XQA"
      },
      "source": [
        "#importing EfficientNet Model\n",
        "from tensorflow.keras.applications import EfficientNetB0"
      ],
      "execution_count": null,
      "outputs": []
    },
    {
      "cell_type": "code",
      "metadata": {
        "id": "UUUDjAJu4bpm"
      },
      "source": [
        "base_model_imgnet = EfficientNetB0(include_top=False, weights=\"imagenet\", input_shape=(224,224,3))\n",
        "base_model_ns = EfficientNetB0(include_top=False, weights=\"efficientnetb0_notop.h5\", input_shape=(224,224,3))"
      ],
      "execution_count": null,
      "outputs": []
    },
    {
      "cell_type": "code",
      "metadata": {
        "id": "M1viIykAwJNQ"
      },
      "source": [
        "base_model_imgnet.trainable = False\n",
        "\n",
        "model_1 = tf.keras.Sequential([\n",
        "    base_model_imgnet,\n",
        "    # tf.keras.layers.BatchNormalization(name='batch_norm1'),\n",
        "    # tf.keras.layers.Conv2D(20, 1, activation='relu', name='conv1'),\n",
        "    # tf.keras.layers.Flatten(name='flatten'),\n",
        "    tf.keras.layers.GlobalAveragePooling2D(name='avg_pool'),\n",
        "    tf.keras.layers.BatchNormalization(name='batch_norm2'),\n",
        "    tf.keras.layers.Dropout(0.2, name=\"dropout2\"),\n",
        "    tf.keras.layers.Dense(1, activation='sigmoid',name = 'output') \n",
        "    # tf.keras.layers.Dense(5, activation='softmax', name='output')\n",
        "], name=\"EfficientNetB0\")"
      ],
      "execution_count": null,
      "outputs": []
    },
    {
      "cell_type": "code",
      "metadata": {
        "id": "DHk7tiZFQp3g"
      },
      "source": [
        "base_model_ns.trainable = False\n",
        "\n",
        "model_2 = tf.keras.Sequential([\n",
        "    base_model_ns,\n",
        "    # tf.keras.layers.BatchNormalization(name='batch_norm1'),\n",
        "    # tf.keras.layers.Conv2D(20, 1, activation='relu', name='conv1'),\n",
        "    # tf.keras.layers.Flatten(name='flatten'),\n",
        "    tf.keras.layers.GlobalAveragePooling2D(name='avg_pool'),\n",
        "    tf.keras.layers.BatchNormalization(name='batch_norm2'),\n",
        "    tf.keras.layers.Dropout(0.2, name=\"dropout2\"),\n",
        "    tf.keras.layers.Dense(1, activation='sigmoid',name = 'output') \n",
        "    # tf.keras.layers.Dense(5, activation='softmax', name='output')\n",
        "], name=\"EfficientNetB0\")"
      ],
      "execution_count": null,
      "outputs": []
    },
    {
      "cell_type": "code",
      "metadata": {
        "colab": {
          "base_uri": "https://localhost:8080/"
        },
        "id": "HLrsxP3zwfJd",
        "outputId": "b3f5079a-cdd7-4f80-ded7-6543dc53529f"
      },
      "source": [
        "opt = tf.keras.optimizers.Adam(learning_rate=0.001)\n",
        "model_1.compile(optimizer = opt,loss='binary_crossentropy',metrics=['accuracy'])\n",
        "model_1.summary()"
      ],
      "execution_count": null,
      "outputs": [
        {
          "output_type": "stream",
          "text": [
            "Model: \"EfficientNetB0\"\n",
            "_________________________________________________________________\n",
            "Layer (type)                 Output Shape              Param #   \n",
            "=================================================================\n",
            "efficientnetb0 (Functional)  (None, 7, 7, 1280)        4049571   \n",
            "_________________________________________________________________\n",
            "avg_pool (GlobalAveragePooli (None, 1280)              0         \n",
            "_________________________________________________________________\n",
            "batch_norm2 (BatchNormalizat (None, 1280)              5120      \n",
            "_________________________________________________________________\n",
            "dropout2 (Dropout)           (None, 1280)              0         \n",
            "_________________________________________________________________\n",
            "output (Dense)               (None, 1)                 1281      \n",
            "=================================================================\n",
            "Total params: 4,055,972\n",
            "Trainable params: 3,841\n",
            "Non-trainable params: 4,052,131\n",
            "_________________________________________________________________\n"
          ],
          "name": "stdout"
        }
      ]
    },
    {
      "cell_type": "code",
      "metadata": {
        "colab": {
          "base_uri": "https://localhost:8080/"
        },
        "id": "92q_P9umQwsh",
        "outputId": "aae18d82-6864-4b5e-e117-b0dc432afa20"
      },
      "source": [
        "opt = tf.keras.optimizers.Adam(learning_rate=0.001)\n",
        "model_2.compile(optimizer = opt,loss='binary_crossentropy',metrics=['accuracy'])\n",
        "model_2.summary()"
      ],
      "execution_count": null,
      "outputs": [
        {
          "output_type": "stream",
          "text": [
            "Model: \"EfficientNetB0\"\n",
            "_________________________________________________________________\n",
            "Layer (type)                 Output Shape              Param #   \n",
            "=================================================================\n",
            "efficientnetb0 (Functional)  (None, 7, 7, 1280)        4049571   \n",
            "_________________________________________________________________\n",
            "avg_pool (GlobalAveragePooli (None, 1280)              0         \n",
            "_________________________________________________________________\n",
            "batch_norm2 (BatchNormalizat (None, 1280)              5120      \n",
            "_________________________________________________________________\n",
            "dropout2 (Dropout)           (None, 1280)              0         \n",
            "_________________________________________________________________\n",
            "output (Dense)               (None, 1)                 1281      \n",
            "=================================================================\n",
            "Total params: 4,055,972\n",
            "Trainable params: 3,841\n",
            "Non-trainable params: 4,052,131\n",
            "_________________________________________________________________\n"
          ],
          "name": "stdout"
        }
      ]
    },
    {
      "cell_type": "code",
      "metadata": {
        "id": "M9nMaDrwwoIq",
        "colab": {
          "base_uri": "https://localhost:8080/"
        },
        "outputId": "4589ee6e-f2f7-4899-e0b2-caefb846984a"
      },
      "source": [
        "hist_1 = model_1.fit(X_train, Y_train, validation_data=(X_test, Y_test), epochs=15,shuffle=True,verbose=1)\n",
        "\n",
        "# batch_size = 50\n",
        "\n",
        "# hist_1 = model_1.fit(datagen.flow(X_train, Y_train, batch_size=batch_size,\n",
        "#                  seed = 27, shuffle = False), \n",
        "#                     epochs=25, # one forward/backward pass of training data\n",
        "#                     steps_per_epoch=X_train.shape[0]//batch_size, # number of images comprising of one epoch\n",
        "#                     validation_data=(X_test, Y_test), # data for validation,\n",
        "#                     verbose =1\n",
        "#                     )\n",
        "\n",
        "# hist_1 = model_1.fit(datagen.flow(X_train, Y_train, batch_size=30),\n",
        "#                 #  seed = 27, shuffle = True), \n",
        "#                     epochs=25, # one forward/backward pass of training data\n",
        "#                     # steps_per_epoch=X_train.shape[0]//30, # number of images comprising of one epoch\n",
        "#                     validation_data=(X_test, Y_test), # data for validation,\n",
        "#                     verbose =2)"
      ],
      "execution_count": null,
      "outputs": [
        {
          "output_type": "stream",
          "text": [
            "Epoch 1/15\n",
            "423/423 [==============================] - 71s 87ms/step - loss: 0.7055 - accuracy: 0.6031 - val_loss: 0.6195 - val_accuracy: 0.6475\n",
            "Epoch 2/15\n",
            "423/423 [==============================] - 35s 83ms/step - loss: 0.6583 - accuracy: 0.6285 - val_loss: 0.6130 - val_accuracy: 0.6702\n",
            "Epoch 3/15\n",
            "423/423 [==============================] - 35s 83ms/step - loss: 0.6408 - accuracy: 0.6438 - val_loss: 0.6118 - val_accuracy: 0.6652\n",
            "Epoch 4/15\n",
            "423/423 [==============================] - 35s 84ms/step - loss: 0.6333 - accuracy: 0.6474 - val_loss: 0.6100 - val_accuracy: 0.6606\n",
            "Epoch 5/15\n",
            "423/423 [==============================] - 36s 84ms/step - loss: 0.6330 - accuracy: 0.6473 - val_loss: 0.6055 - val_accuracy: 0.6635\n",
            "Epoch 6/15\n",
            "423/423 [==============================] - 36s 85ms/step - loss: 0.6387 - accuracy: 0.6398 - val_loss: 0.6073 - val_accuracy: 0.6633\n",
            "Epoch 7/15\n",
            "423/423 [==============================] - 36s 85ms/step - loss: 0.6276 - accuracy: 0.6488 - val_loss: 0.6011 - val_accuracy: 0.6683\n",
            "Epoch 8/15\n",
            "423/423 [==============================] - 36s 85ms/step - loss: 0.6281 - accuracy: 0.6519 - val_loss: 0.6024 - val_accuracy: 0.6709\n",
            "Epoch 9/15\n",
            "423/423 [==============================] - 36s 85ms/step - loss: 0.6280 - accuracy: 0.6462 - val_loss: 0.6170 - val_accuracy: 0.6559\n",
            "Epoch 10/15\n",
            "423/423 [==============================] - 36s 85ms/step - loss: 0.6277 - accuracy: 0.6525 - val_loss: 0.6058 - val_accuracy: 0.6678\n",
            "Epoch 11/15\n",
            "423/423 [==============================] - 36s 85ms/step - loss: 0.6241 - accuracy: 0.6539 - val_loss: 0.6096 - val_accuracy: 0.6652\n",
            "Epoch 12/15\n",
            "423/423 [==============================] - 36s 85ms/step - loss: 0.6266 - accuracy: 0.6536 - val_loss: 0.6062 - val_accuracy: 0.6670\n",
            "Epoch 13/15\n",
            "423/423 [==============================] - 36s 85ms/step - loss: 0.6271 - accuracy: 0.6535 - val_loss: 0.6020 - val_accuracy: 0.6690\n",
            "Epoch 14/15\n",
            "423/423 [==============================] - 36s 85ms/step - loss: 0.6281 - accuracy: 0.6470 - val_loss: 0.6017 - val_accuracy: 0.6777\n",
            "Epoch 15/15\n",
            "423/423 [==============================] - 36s 85ms/step - loss: 0.6281 - accuracy: 0.6462 - val_loss: 0.6011 - val_accuracy: 0.6663\n"
          ],
          "name": "stdout"
        }
      ]
    },
    {
      "cell_type": "code",
      "metadata": {
        "colab": {
          "base_uri": "https://localhost:8080/"
        },
        "id": "OYCCjWOvQ4cb",
        "outputId": "725eb5da-fc97-45ba-9c96-1a8bbec5d5d4"
      },
      "source": [
        "hist_2 = model_2.fit(X_train, Y_train, validation_data=(X_test, Y_test), epochs=15,shuffle=True,verbose=1)"
      ],
      "execution_count": null,
      "outputs": [
        {
          "output_type": "stream",
          "text": [
            "Epoch 1/15\n",
            "423/423 [==============================] - 42s 88ms/step - loss: 0.7180 - accuracy: 0.5861 - val_loss: 0.6251 - val_accuracy: 0.6540\n",
            "Epoch 2/15\n",
            "423/423 [==============================] - 36s 85ms/step - loss: 0.6696 - accuracy: 0.6224 - val_loss: 0.6272 - val_accuracy: 0.6513\n",
            "Epoch 3/15\n",
            "423/423 [==============================] - 36s 85ms/step - loss: 0.6523 - accuracy: 0.6290 - val_loss: 0.6134 - val_accuracy: 0.6713\n",
            "Epoch 4/15\n",
            "423/423 [==============================] - 36s 85ms/step - loss: 0.6464 - accuracy: 0.6356 - val_loss: 0.6271 - val_accuracy: 0.6471\n",
            "Epoch 5/15\n",
            "423/423 [==============================] - 36s 85ms/step - loss: 0.6443 - accuracy: 0.6359 - val_loss: 0.6219 - val_accuracy: 0.6566\n",
            "Epoch 6/15\n",
            "423/423 [==============================] - 36s 85ms/step - loss: 0.6379 - accuracy: 0.6393 - val_loss: 0.6456 - val_accuracy: 0.6200\n",
            "Epoch 7/15\n",
            "423/423 [==============================] - 36s 85ms/step - loss: 0.6358 - accuracy: 0.6437 - val_loss: 0.6055 - val_accuracy: 0.6721\n",
            "Epoch 8/15\n",
            "423/423 [==============================] - 36s 85ms/step - loss: 0.6377 - accuracy: 0.6434 - val_loss: 0.6161 - val_accuracy: 0.6604\n",
            "Epoch 9/15\n",
            "423/423 [==============================] - 46s 110ms/step - loss: 0.6385 - accuracy: 0.6405 - val_loss: 0.6256 - val_accuracy: 0.6523\n",
            "Epoch 10/15\n",
            "423/423 [==============================] - 36s 85ms/step - loss: 0.6386 - accuracy: 0.6393 - val_loss: 0.6241 - val_accuracy: 0.6559\n",
            "Epoch 11/15\n",
            "423/423 [==============================] - 36s 85ms/step - loss: 0.6385 - accuracy: 0.6407 - val_loss: 0.6080 - val_accuracy: 0.6713\n",
            "Epoch 12/15\n",
            "423/423 [==============================] - 36s 85ms/step - loss: 0.6364 - accuracy: 0.6448 - val_loss: 0.6085 - val_accuracy: 0.6718\n",
            "Epoch 13/15\n",
            "423/423 [==============================] - 36s 85ms/step - loss: 0.6343 - accuracy: 0.6477 - val_loss: 0.6081 - val_accuracy: 0.6732\n",
            "Epoch 14/15\n",
            "423/423 [==============================] - 36s 85ms/step - loss: 0.6352 - accuracy: 0.6434 - val_loss: 0.6136 - val_accuracy: 0.6630\n",
            "Epoch 15/15\n",
            "423/423 [==============================] - 36s 85ms/step - loss: 0.6378 - accuracy: 0.6428 - val_loss: 0.6080 - val_accuracy: 0.6749\n"
          ],
          "name": "stdout"
        }
      ]
    },
    {
      "cell_type": "code",
      "metadata": {
        "id": "pCIJgYYRH1uD"
      },
      "source": [
        "def plot_history(hist):\n",
        "    plt.plot(hist.history[\"accuracy\"])\n",
        "    plt.plot(hist.history[\"val_accuracy\"])\n",
        "    plt.title(\"model accuracy\")\n",
        "    plt.ylabel(\"accuracy\")\n",
        "    plt.xlabel(\"epoch\")\n",
        "    plt.legend([\"train\", \"validation\"], loc=\"upper left\")\n",
        "    plt.show()"
      ],
      "execution_count": null,
      "outputs": []
    },
    {
      "cell_type": "code",
      "metadata": {
        "colab": {
          "base_uri": "https://localhost:8080/",
          "height": 573
        },
        "id": "-_73LEKCKXRq",
        "outputId": "db7ebce8-40ad-42b9-ab1f-0fafc5dc1a2b"
      },
      "source": [
        "plot_history(hist_1)\n",
        "plot_history(hist_2)"
      ],
      "execution_count": null,
      "outputs": [
        {
          "output_type": "display_data",
          "data": {
            "image/png": "[encoded data removed]",
            "text/plain": [
              "<Figure size 432x288 with 1 Axes>"
            ]
          },
          "metadata": {
            "tags": [],
            "needs_background": "light"
          }
        },
        {
          "output_type": "display_data",
          "data": {
            "image/png": "[encoded data removed]",
            "text/plain": [
              "<Figure size 432x288 with 1 Axes>"
            ]
          },
          "metadata": {
            "tags": [],
            "needs_background": "light"
          }
        }
      ]
    },
    {
      "cell_type": "code",
      "metadata": {
        "id": "VM3RI0F-BqQr"
      },
      "source": [
        ""
      ],
      "execution_count": null,
      "outputs": []
    },
    {
      "cell_type": "code",
      "metadata": {
        "id": "rqxoueX2CNuU"
      },
      "source": [
        "base_model_imgnet.trainable = False\n",
        "\n",
        "model_3 = tf.keras.Sequential([\n",
        "    base_model_ns,\n",
        "    tf.keras.layers.BatchNormalization(name='batch_norm1'),\n",
        "    tf.keras.layers.Conv2D(20, 1, activation='relu', name='conv1'),\n",
        "    tf.keras.layers.Flatten(name='flatten'),\n",
        "    # tf.keras.layers.GlobalAveragePooling2D(name='avg_pool'),\n",
        "    tf.keras.layers.BatchNormalization(name='batch_norm2'),\n",
        "    tf.keras.layers.Dropout(0.2, name=\"dropout2\"),\n",
        "    # tf.keras.layers.Dense(NUM_CLASSES, activation='softmax', name='output')\n",
        "    # tf.keras.layers.Conv2D(20, 1, activation='relu', name='conv1'),\n",
        "    # tf.keras.layers.Flatten(name='flatten'),\n",
        "    #\n",
        "    # tf.keras.layers.BatchNormalization(name='batch_norm2'),\n",
        "    # tf.keras.layers.Dense(512, activation='elu') ,\n",
        "    # tf.keras.layers.Dropout(0.2, name=\"dropout2\"),\n",
        "    # tf.keras.layers.Dense(256, activation='elu'), \n",
        "    tf.keras.layers.Dense(1, activation='sigmoid',name = 'output') \n",
        "    # tf.keras.layers.Dense(5, activation='softmax', name='output')\n",
        "], name=\"EfficientNetB0\")"
      ],
      "execution_count": null,
      "outputs": []
    },
    {
      "cell_type": "code",
      "metadata": {
        "colab": {
          "base_uri": "https://localhost:8080/"
        },
        "id": "On-Dxs4yCYRg",
        "outputId": "6da98c27-874d-4564-9d8e-5342eca7a4b9"
      },
      "source": [
        "opt = tf.keras.optimizers.Adam(learning_rate=0.001)\n",
        "model_3.compile(optimizer = opt,loss='binary_crossentropy',metrics=['accuracy'])\n",
        "model_3.summary()"
      ],
      "execution_count": null,
      "outputs": [
        {
          "output_type": "stream",
          "text": [
            "Model: \"EfficientNetB0\"\n",
            "_________________________________________________________________\n",
            "Layer (type)                 Output Shape              Param #   \n",
            "=================================================================\n",
            "efficientnetb0 (Functional)  (None, 7, 7, 1280)        4049571   \n",
            "_________________________________________________________________\n",
            "batch_norm1 (BatchNormalizat (None, 7, 7, 1280)        5120      \n",
            "_________________________________________________________________\n",
            "conv1 (Conv2D)               (None, 7, 7, 20)          25620     \n",
            "_________________________________________________________________\n",
            "flatten (Flatten)            (None, 980)               0         \n",
            "_________________________________________________________________\n",
            "batch_norm2 (BatchNormalizat (None, 980)               3920      \n",
            "_________________________________________________________________\n",
            "dropout2 (Dropout)           (None, 980)               0         \n",
            "_________________________________________________________________\n",
            "output (Dense)               (None, 1)                 981       \n",
            "=================================================================\n",
            "Total params: 4,085,212\n",
            "Trainable params: 31,121\n",
            "Non-trainable params: 4,054,091\n",
            "_________________________________________________________________\n"
          ],
          "name": "stdout"
        }
      ]
    },
    {
      "cell_type": "code",
      "metadata": {
        "colab": {
          "base_uri": "https://localhost:8080/"
        },
        "id": "bmO3dgwHCkB1",
        "outputId": "f4394c60-f420-42d4-a94f-3f0ad721b8c9"
      },
      "source": [
        "hist_1 = model_3.fit(X_train, Y_train, validation_data=(X_test, Y_test), epochs=15,shuffle=True,verbose=1)"
      ],
      "execution_count": null,
      "outputs": [
        {
          "output_type": "stream",
          "text": [
            "Epoch 1/15\n",
            "423/423 [==============================] - 44s 90ms/step - loss: 0.7432 - accuracy: 0.5763 - val_loss: 0.6487 - val_accuracy: 0.6357\n",
            "Epoch 2/15\n",
            "423/423 [==============================] - 37s 86ms/step - loss: 0.6595 - accuracy: 0.6247 - val_loss: 0.6324 - val_accuracy: 0.6516\n",
            "Epoch 3/15\n",
            "423/423 [==============================] - 36s 86ms/step - loss: 0.6326 - accuracy: 0.6481 - val_loss: 0.6160 - val_accuracy: 0.6668\n",
            "Epoch 4/15\n",
            "423/423 [==============================] - 37s 87ms/step - loss: 0.6183 - accuracy: 0.6582 - val_loss: 0.6318 - val_accuracy: 0.6616\n",
            "Epoch 5/15\n",
            "423/423 [==============================] - 47s 110ms/step - loss: 0.6120 - accuracy: 0.6631 - val_loss: 0.6486 - val_accuracy: 0.6535\n",
            "Epoch 6/15\n",
            "423/423 [==============================] - 37s 87ms/step - loss: 0.6027 - accuracy: 0.6773 - val_loss: 0.6189 - val_accuracy: 0.6601\n",
            "Epoch 7/15\n",
            "423/423 [==============================] - 36s 86ms/step - loss: 0.5942 - accuracy: 0.6794 - val_loss: 0.6146 - val_accuracy: 0.6670\n",
            "Epoch 8/15\n",
            "423/423 [==============================] - 36s 86ms/step - loss: 0.5870 - accuracy: 0.6874 - val_loss: 0.6221 - val_accuracy: 0.6726\n",
            "Epoch 9/15\n",
            "423/423 [==============================] - 37s 86ms/step - loss: 0.5795 - accuracy: 0.6950 - val_loss: 0.6106 - val_accuracy: 0.6708\n",
            "Epoch 10/15\n",
            "423/423 [==============================] - 36s 86ms/step - loss: 0.5814 - accuracy: 0.6899 - val_loss: 0.6081 - val_accuracy: 0.6666\n",
            "Epoch 11/15\n",
            "423/423 [==============================] - 36s 86ms/step - loss: 0.5744 - accuracy: 0.6955 - val_loss: 0.6189 - val_accuracy: 0.6683\n",
            "Epoch 12/15\n",
            "423/423 [==============================] - 36s 86ms/step - loss: 0.5739 - accuracy: 0.6952 - val_loss: 0.6215 - val_accuracy: 0.6580\n",
            "Epoch 13/15\n",
            "423/423 [==============================] - 47s 110ms/step - loss: 0.5636 - accuracy: 0.7044 - val_loss: 0.6171 - val_accuracy: 0.6637\n",
            "Epoch 14/15\n",
            "423/423 [==============================] - 37s 87ms/step - loss: 0.5579 - accuracy: 0.7087 - val_loss: 0.6292 - val_accuracy: 0.6523\n",
            "Epoch 15/15\n",
            "423/423 [==============================] - 36s 86ms/step - loss: 0.5489 - accuracy: 0.7167 - val_loss: 0.6183 - val_accuracy: 0.6689\n"
          ],
          "name": "stdout"
        }
      ]
    },
    {
      "cell_type": "code",
      "metadata": {
        "colab": {
          "base_uri": "https://localhost:8080/"
        },
        "id": "dy5_qf6ePIPD",
        "outputId": "571a4f8e-c787-47c5-a1c5-494e20f3fdcf"
      },
      "source": [
        "model_3.evaluate(X_test,Y_test)"
      ],
      "execution_count": null,
      "outputs": [
        {
          "output_type": "stream",
          "text": [
            "182/182 [==============================] - 11s 60ms/step - loss: 0.6069 - accuracy: 0.6635\n"
          ],
          "name": "stdout"
        },
        {
          "output_type": "execute_result",
          "data": {
            "text/plain": [
              "[0.6068838238716125, 0.6635029911994934]"
            ]
          },
          "metadata": {
            "tags": []
          },
          "execution_count": 40
        }
      ]
    },
    {
      "cell_type": "code",
      "metadata": {
        "id": "V1NQwa2sCWXt"
      },
      "source": [
        "base_model_ns.trainable = False\n",
        "\n",
        "model_4 = tf.keras.Sequential([\n",
        "    base_model_ns,\n",
        "    # tf.keras.layers.BatchNormalization(name='batch_norm1'),\n",
        "    # tf.keras.layers.Conv2D(20, 1, activation='relu', name='conv1'),\n",
        "    # tf.keras.layers.Flatten(name='flatten'),\n",
        "    tf.keras.layers.GlobalAveragePooling2D(name='avg_pool'),\n",
        "    tf.keras.layers.BatchNormalization(name='batch_norm2'),\n",
        "    tf.keras.layers.Dropout(0.2, name=\"dropout2\"),\n",
        "    tf.keras.layers.Dense(1, activation='sigmoid',name = 'output') \n",
        "    # tf.keras.layers.Dense(5, activation='softmax', name='output')\n",
        "], name=\"EfficientNetB0\")"
      ],
      "execution_count": null,
      "outputs": []
    },
    {
      "cell_type": "code",
      "metadata": {
        "colab": {
          "base_uri": "https://localhost:8080/"
        },
        "id": "fxw3QzUCCet-",
        "outputId": "85e02691-239a-46b3-d660-f96e6284cace"
      },
      "source": [
        "opt = tf.keras.optimizers.Adam(learning_rate=0.001)\n",
        "model_4.compile(optimizer = opt,loss='binary_crossentropy',metrics=['accuracy'])\n",
        "model_4.summary()"
      ],
      "execution_count": null,
      "outputs": [
        {
          "output_type": "stream",
          "text": [
            "Model: \"EfficientNetB0\"\n",
            "_________________________________________________________________\n",
            "Layer (type)                 Output Shape              Param #   \n",
            "=================================================================\n",
            "efficientnetb0 (Functional)  (None, 7, 7, 1280)        4049571   \n",
            "_________________________________________________________________\n",
            "avg_pool (GlobalAveragePooli (None, 1280)              0         \n",
            "_________________________________________________________________\n",
            "batch_norm2 (BatchNormalizat (None, 1280)              5120      \n",
            "_________________________________________________________________\n",
            "dropout2 (Dropout)           (None, 1280)              0         \n",
            "_________________________________________________________________\n",
            "output (Dense)               (None, 1)                 1281      \n",
            "=================================================================\n",
            "Total params: 4,055,972\n",
            "Trainable params: 3,841\n",
            "Non-trainable params: 4,052,131\n",
            "_________________________________________________________________\n"
          ],
          "name": "stdout"
        }
      ]
    },
    {
      "cell_type": "code",
      "metadata": {
        "colab": {
          "base_uri": "https://localhost:8080/"
        },
        "id": "GHNXBcW-FYH_",
        "outputId": "8ff87098-d275-4290-c0ea-1a149b9deb43"
      },
      "source": [
        "hist_2 = model_4.fit(X_train, Y_train, validation_data=(X_test, Y_test), epochs=15,shuffle=True,verbose=1)"
      ],
      "execution_count": null,
      "outputs": [
        {
          "output_type": "stream",
          "text": [
            "Epoch 1/15\n",
            "423/423 [==============================] - 43s 89ms/step - loss: 0.7058 - accuracy: 0.5985 - val_loss: 0.6260 - val_accuracy: 0.6521\n",
            "Epoch 2/15\n",
            "423/423 [==============================] - 36s 86ms/step - loss: 0.6704 - accuracy: 0.6176 - val_loss: 0.6212 - val_accuracy: 0.6599\n",
            "Epoch 3/15\n",
            "423/423 [==============================] - 36s 86ms/step - loss: 0.6488 - accuracy: 0.6338 - val_loss: 0.6219 - val_accuracy: 0.6599\n",
            "Epoch 4/15\n",
            "423/423 [==============================] - 36s 85ms/step - loss: 0.6462 - accuracy: 0.6414 - val_loss: 0.6178 - val_accuracy: 0.6597\n",
            "Epoch 5/15\n",
            "423/423 [==============================] - 46s 110ms/step - loss: 0.6401 - accuracy: 0.6397 - val_loss: 0.6172 - val_accuracy: 0.6538\n",
            "Epoch 6/15\n",
            "423/423 [==============================] - 36s 86ms/step - loss: 0.6360 - accuracy: 0.6420 - val_loss: 0.6362 - val_accuracy: 0.6466\n",
            "Epoch 7/15\n",
            "423/423 [==============================] - 36s 85ms/step - loss: 0.6376 - accuracy: 0.6439 - val_loss: 0.6150 - val_accuracy: 0.6640\n",
            "Epoch 8/15\n",
            "423/423 [==============================] - 36s 85ms/step - loss: 0.6382 - accuracy: 0.6441 - val_loss: 0.6220 - val_accuracy: 0.6481\n",
            "Epoch 9/15\n",
            "423/423 [==============================] - 46s 110ms/step - loss: 0.6343 - accuracy: 0.6457 - val_loss: 0.6258 - val_accuracy: 0.6569\n",
            "Epoch 10/15\n",
            "423/423 [==============================] - 36s 85ms/step - loss: 0.6354 - accuracy: 0.6440 - val_loss: 0.6165 - val_accuracy: 0.6628\n",
            "Epoch 11/15\n",
            "423/423 [==============================] - 36s 86ms/step - loss: 0.6378 - accuracy: 0.6414 - val_loss: 0.6146 - val_accuracy: 0.6616\n",
            "Epoch 12/15\n",
            "423/423 [==============================] - 36s 85ms/step - loss: 0.6339 - accuracy: 0.6494 - val_loss: 0.6142 - val_accuracy: 0.6604\n",
            "Epoch 13/15\n",
            "423/423 [==============================] - 36s 86ms/step - loss: 0.6355 - accuracy: 0.6430 - val_loss: 0.6187 - val_accuracy: 0.6587\n",
            "Epoch 14/15\n",
            "423/423 [==============================] - 36s 85ms/step - loss: 0.6320 - accuracy: 0.6484 - val_loss: 0.6098 - val_accuracy: 0.6642\n",
            "Epoch 15/15\n",
            "423/423 [==============================] - 46s 110ms/step - loss: 0.6307 - accuracy: 0.6443 - val_loss: 0.6142 - val_accuracy: 0.6583\n"
          ],
          "name": "stdout"
        }
      ]
    },
    {
      "cell_type": "code",
      "metadata": {
        "colab": {
          "base_uri": "https://localhost:8080/",
          "height": 573
        },
        "id": "KfQ2AAlhH6Uz",
        "outputId": "bfd0c6e2-611e-4b87-d6a2-7a57b2dc6d69"
      },
      "source": [
        "plot_history(hist_1)\n",
        "plot_history(hist_2)"
      ],
      "execution_count": null,
      "outputs": [
        {
          "output_type": "display_data",
          "data": {
            "image/png": "[encoded data removed]",
            "text/plain": [
              "<Figure size 432x288 with 1 Axes>"
            ]
          },
          "metadata": {
            "tags": [],
            "needs_background": "light"
          }
        },
        {
          "output_type": "display_data",
          "data": {
            "image/png": "[encoded data removed]",
            "text/plain": [
              "<Figure size 432x288 with 1 Axes>"
            ]
          },
          "metadata": {
            "tags": [],
            "needs_background": "light"
          }
        }
      ]
    },
    {
      "cell_type": "code",
      "metadata": {
        "id": "wfpTs7F14TcE"
      },
      "source": [
        "# from keras.callbacks import ReduceLROnPlateau\n",
        "# lrr= ReduceLROnPlateau(   monitor='val_acc',   factor=.01,   patience=3,  min_lr=1e-5)"
      ],
      "execution_count": null,
      "outputs": []
    }
  ]
}